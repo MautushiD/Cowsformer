{
 "cells": [
  {
   "cell_type": "code",
   "execution_count": 1,
   "metadata": {},
   "outputs": [
    {
     "name": "stdout",
     "output_type": "stream",
     "text": [
      "/Users/mautushid/github/Cowsformer\n"
     ]
    }
   ],
   "source": [
    "import os\n",
    "from ultralytics import NAS\n",
    "os.chdir(\"..\")\n",
    "ROOT = os.getcwd()\n",
    "print(ROOT)\n"
   ]
  },
  {
   "cell_type": "code",
   "execution_count": 2,
   "metadata": {},
   "outputs": [
    {
     "name": "stdout",
     "output_type": "stream",
     "text": [
      "The console stream is logged into /Users/mautushid/sg_logs/console.log\n"
     ]
    },
    {
     "name": "stderr",
     "output_type": "stream",
     "text": [
      "[2023-11-30 19:01:11] INFO - crash_tips_setup.py - Crash tips is enabled. You can set your environment variable to CRASH_HANDLER=FALSE to disable it\n",
      "[2023-11-30 19:01:12] WARNING - __init__.py - Failed to import pytorch_quantization\n",
      "[2023-11-30 19:01:12] WARNING - redirects.py - NOTE: Redirects are currently not supported in Windows or MacOs.\n",
      "[2023-11-30 19:01:21] WARNING - calibrator.py - Failed to import pytorch_quantization\n",
      "[2023-11-30 19:01:21] WARNING - export.py - Failed to import pytorch_quantization\n",
      "[2023-11-30 19:01:21] WARNING - selective_quantization_utils.py - Failed to import pytorch_quantization\n",
      "[2023-11-30 19:01:21] WARNING - env_sanity_check.py - \u001b[31mFailed to verify operating system: Deci officially supports only Linux kernels. Some features may not work as expected.\u001b[0m\n"
     ]
    }
   ],
   "source": [
    "from models.nas import *\n",
    "import pandas as pd\n",
    "import matplotlib.pyplot as plt"
   ]
  },
  {
   "cell_type": "code",
   "execution_count": 3,
   "metadata": {},
   "outputs": [
    {
     "name": "stderr",
     "output_type": "stream",
     "text": [
      "[2023-11-30 19:01:23] INFO - checkpoint_utils.py - License Notification: YOLO-NAS pre-trained weights are subjected to the specific license terms and conditions detailed in \n",
      "https://github.com/Deci-AI/super-gradients/blob/master/LICENSE.YOLONAS.md\n",
      "By downloading the pre-trained weight files you agree to comply with these terms.\n",
      "[2023-11-30 19:01:23] INFO - checkpoint_utils.py - Successfully loaded pretrained weights for architecture yolo_nas_m\n"
     ]
    }
   ],
   "source": [
    "### class inits and other inputs\n",
    "\n",
    "path_model = 'yolo_nas_m' \n",
    "dir_train = \"/Users/mautushid/github/Cowsformer/data/cow200/yolov5/train\"\n",
    "dir_val = \"/Users/mautushid/github/Cowsformer/data/cow200/yolov5/val\"\n",
    "dir_test = \"/Users/mautushid/github/Cowsformer/data/cow200/yolov5/test\"\n",
    "name_task = \"cow200\"\n",
    "\n",
    "data_yaml_path = \"/Users/mautushid/github/Cowsformer/data/cow200/yolov5/data.yaml\"\n",
    "finetuned_model_path_m = [\"/Users/mautushid/github/Cowsformer/lms_checkpoints/n10_yolo_na_i1_exp_yolo_nas_m_10_1/ckpt_best.pth\", \n",
    "                        \"/Users/mautushid/github/Cowsformer/lms_checkpoints/n25_yolo_na_i1_exp_yolo_nas_m_25_1/ckpt_best.pth\", \n",
    "                        \"/Users/mautushid/github/Cowsformer/lms_checkpoints/n50_yolo_na_i1_exp_yolo_nas_m_50_1/ckpt_best.pth\", \n",
    "                        \"/Users/mautushid/github/Cowsformer/lms_checkpoints/n100_yolo_na_i1_exp_yolo_nas_m_100_1/ckpt_best.pth\",\n",
    "                        \"/Users/mautushid/github/Cowsformer/lms_checkpoints/n200_yolo_na_i1_exp_yolo_nas_m_200_1/ckpt_best.pth\"]\n",
    "\n",
    "### Creating instance of Niche_YOLO_NAS class\n",
    "my_nas = Niche_YOLO_NAS(path_model, dir_train, dir_val, dir_test, name_task)"
   ]
  },
  {
   "cell_type": "code",
   "execution_count": 4,
   "metadata": {},
   "outputs": [
    {
     "name": "stderr",
     "output_type": "stream",
     "text": [
      "[2023-11-30 19:01:50] INFO - checkpoint_utils.py - Successfully loaded model weights from /Users/mautushid/github/Cowsformer/lms_checkpoints/n10_yolo_na_i1_exp_yolo_nas_m_10_1/ckpt_best.pth EMA checkpoint.\n"
     ]
    },
    {
     "name": "stdout",
     "output_type": "stream",
     "text": [
      "model yolo_nas_m loaded\n"
     ]
    },
    {
     "name": "stderr",
     "output_type": "stream",
     "text": [
      "[2023-11-30 19:01:51] INFO - checkpoint_utils.py - Successfully loaded model weights from /Users/mautushid/github/Cowsformer/lms_checkpoints/n25_yolo_na_i1_exp_yolo_nas_m_25_1/ckpt_best.pth EMA checkpoint.\n"
     ]
    },
    {
     "name": "stdout",
     "output_type": "stream",
     "text": [
      "model yolo_nas_m loaded\n"
     ]
    },
    {
     "name": "stderr",
     "output_type": "stream",
     "text": [
      "[2023-11-30 19:01:52] INFO - checkpoint_utils.py - Successfully loaded model weights from /Users/mautushid/github/Cowsformer/lms_checkpoints/n50_yolo_na_i1_exp_yolo_nas_m_50_1/ckpt_best.pth EMA checkpoint.\n"
     ]
    },
    {
     "name": "stdout",
     "output_type": "stream",
     "text": [
      "model yolo_nas_m loaded\n"
     ]
    },
    {
     "name": "stderr",
     "output_type": "stream",
     "text": [
      "[2023-11-30 19:01:53] INFO - checkpoint_utils.py - Successfully loaded model weights from /Users/mautushid/github/Cowsformer/lms_checkpoints/n100_yolo_na_i1_exp_yolo_nas_m_100_1/ckpt_best.pth EMA checkpoint.\n"
     ]
    },
    {
     "name": "stdout",
     "output_type": "stream",
     "text": [
      "model yolo_nas_m loaded\n"
     ]
    },
    {
     "name": "stderr",
     "output_type": "stream",
     "text": [
      "[2023-11-30 19:01:54] INFO - checkpoint_utils.py - Successfully loaded model weights from /Users/mautushid/github/Cowsformer/lms_checkpoints/n200_yolo_na_i1_exp_yolo_nas_m_200_1/ckpt_best.pth EMA checkpoint.\n"
     ]
    },
    {
     "name": "stdout",
     "output_type": "stream",
     "text": [
      "model yolo_nas_m loaded\n"
     ]
    }
   ],
   "source": [
    "# Initialize a list to store models\n",
    "models_m = []\n",
    "\n",
    "# Loop over each path and load the model\n",
    "for path in finetuned_model_path_m:\n",
    "    model_m = my_nas.load(path_model,path)  # Load the model using the current path\n",
    "    models_m.append(model_m)\n",
    "\n",
    "\n"
   ]
  },
  {
   "cell_type": "code",
   "execution_count": 5,
   "metadata": {},
   "outputs": [
    {
     "name": "stderr",
     "output_type": "stream",
     "text": [
      "[2023-11-30 19:01:57] INFO - detection_dataset.py - Dataset Initialization in progress. `cache_annotations=True` causes the process to take longer due to full dataset indexing.\n",
      "Indexing dataset annotations: 100%|██████████| 221/221 [00:01<00:00, 193.13it/s]\n",
      "Testing:   0%|          | 0/14 [00:00<?, ?it/s][W ParallelNative.cpp:229] Warning: Cannot set number of intraop threads after parallel work has started or after set_num_threads call when using native parallel backend (function set_num_threads)\n",
      "[W ParallelNative.cpp:229] Warning: Cannot set number of intraop threads after parallel work has started or after set_num_threads call when using native parallel backend (function set_num_threads)\n",
      "Testing: 100%|██████████| 14/14 [07:01<00:00, 30.10s/it]\n",
      "[2023-11-30 19:08:59] INFO - detection_dataset.py - Dataset Initialization in progress. `cache_annotations=True` causes the process to take longer due to full dataset indexing.\n",
      "Indexing dataset annotations: 100%|██████████| 221/221 [00:00<00:00, 1592.02it/s]\n",
      "Testing:   0%|          | 0/14 [00:00<?, ?it/s][W ParallelNative.cpp:229] Warning: Cannot set number of intraop threads after parallel work has started or after set_num_threads call when using native parallel backend (function set_num_threads)\n",
      "[W ParallelNative.cpp:229] Warning: Cannot set number of intraop threads after parallel work has started or after set_num_threads call when using native parallel backend (function set_num_threads)\n",
      "Testing: 100%|██████████| 14/14 [07:30<00:00, 32.17s/it]\n",
      "[2023-11-30 19:16:30] INFO - detection_dataset.py - Dataset Initialization in progress. `cache_annotations=True` causes the process to take longer due to full dataset indexing.\n",
      "Indexing dataset annotations: 100%|██████████| 221/221 [00:01<00:00, 179.83it/s]\n",
      "Testing:   0%|          | 0/14 [00:00<?, ?it/s][W ParallelNative.cpp:229] Warning: Cannot set number of intraop threads after parallel work has started or after set_num_threads call when using native parallel backend (function set_num_threads)\n",
      "[W ParallelNative.cpp:229] Warning: Cannot set number of intraop threads after parallel work has started or after set_num_threads call when using native parallel backend (function set_num_threads)\n",
      "Testing: 100%|██████████| 14/14 [11:04<00:00, 47.48s/it]\n",
      "[2023-11-30 19:27:36] INFO - detection_dataset.py - Dataset Initialization in progress. `cache_annotations=True` causes the process to take longer due to full dataset indexing.\n",
      "Indexing dataset annotations: 100%|██████████| 221/221 [00:01<00:00, 189.44it/s]\n",
      "Testing:   0%|          | 0/14 [00:00<?, ?it/s][W ParallelNative.cpp:229] Warning: Cannot set number of intraop threads after parallel work has started or after set_num_threads call when using native parallel backend (function set_num_threads)\n",
      "[W ParallelNative.cpp:229] Warning: Cannot set number of intraop threads after parallel work has started or after set_num_threads call when using native parallel backend (function set_num_threads)\n",
      "Testing: 100%|██████████| 14/14 [07:54<00:00, 33.91s/it]\n",
      "[2023-11-30 19:35:32] INFO - detection_dataset.py - Dataset Initialization in progress. `cache_annotations=True` causes the process to take longer due to full dataset indexing.\n",
      "Indexing dataset annotations: 100%|██████████| 221/221 [00:00<00:00, 1705.83it/s]\n",
      "Testing:   0%|          | 0/14 [00:00<?, ?it/s][W ParallelNative.cpp:229] Warning: Cannot set number of intraop threads after parallel work has started or after set_num_threads call when using native parallel backend (function set_num_threads)\n",
      "[W ParallelNative.cpp:229] Warning: Cannot set number of intraop threads after parallel work has started or after set_num_threads call when using native parallel backend (function set_num_threads)\n",
      "Testing: 100%|██████████| 14/14 [06:42<00:00, 23.56s/it]"
     ]
    }
   ],
   "source": [
    "evaluation_results_m = []\n",
    "\n",
    "for model in models_m:\n",
    "    metrics_m = my_nas.evaluate_trained_model(model, data_yaml_path, \"test\")  # Replace with your evaluation function\n",
    "    evaluation_results_m.append(metrics_m)"
   ]
  },
  {
   "cell_type": "code",
   "execution_count": 1,
   "metadata": {},
   "outputs": [],
   "source": [
    "#evaluation_results\n"
   ]
  },
  {
   "cell_type": "code",
   "execution_count": null,
   "metadata": {},
   "outputs": [],
   "source": []
  },
  {
   "cell_type": "code",
   "execution_count": 7,
   "metadata": {},
   "outputs": [],
   "source": [
    "path_model = 'yolo_nas_l' \n",
    "\n",
    "\n",
    "\n",
    "finetuned_model_path_l = [\"/Users/mautushid/github/Cowsformer/lms_checkpoints/n10_yolo_na_i1_exp_yolo_nas_l_10_1/ckpt_best.pth\", \n",
    "                        \"/Users/mautushid/github/Cowsformer/lms_checkpoints/n25_yolo_na_i1_exp_yolo_nas_l_25_1/ckpt_best.pth\", \n",
    "                        \"/Users/mautushid/github/Cowsformer/lms_checkpoints/n50_yolo_na_i1_exp_yolo_nas_l_50_1/ckpt_best.pth\", \n",
    "                        \"/Users/mautushid/github/Cowsformer/lms_checkpoints/n100_yolo_na_i1_exp_yolo_nas_l_100_1/ckpt_best.pth\",\n",
    "                        \"/Users/mautushid/github/Cowsformer/lms_checkpoints/n200_yolo_na_i1_exp_yolo_nas_l_200_1/ckpt_best.pth\"]\n",
    "\n"
   ]
  },
  {
   "cell_type": "code",
   "execution_count": 8,
   "metadata": {},
   "outputs": [
    {
     "name": "stderr",
     "output_type": "stream",
     "text": [
      "[2023-11-30 19:42:58] INFO - checkpoint_utils.py - Successfully loaded model weights from /Users/mautushid/github/Cowsformer/lms_checkpoints/n10_yolo_na_i1_exp_yolo_nas_l_10_1/ckpt_best.pth EMA checkpoint.\n"
     ]
    },
    {
     "name": "stdout",
     "output_type": "stream",
     "text": [
      "model yolo_nas_l loaded\n"
     ]
    },
    {
     "name": "stderr",
     "output_type": "stream",
     "text": [
      "[2023-11-30 19:43:00] INFO - checkpoint_utils.py - Successfully loaded model weights from /Users/mautushid/github/Cowsformer/lms_checkpoints/n25_yolo_na_i1_exp_yolo_nas_l_25_1/ckpt_best.pth EMA checkpoint.\n"
     ]
    },
    {
     "name": "stdout",
     "output_type": "stream",
     "text": [
      "model yolo_nas_l loaded\n"
     ]
    },
    {
     "name": "stderr",
     "output_type": "stream",
     "text": [
      "[2023-11-30 19:43:01] INFO - checkpoint_utils.py - Successfully loaded model weights from /Users/mautushid/github/Cowsformer/lms_checkpoints/n50_yolo_na_i1_exp_yolo_nas_l_50_1/ckpt_best.pth EMA checkpoint.\n"
     ]
    },
    {
     "name": "stdout",
     "output_type": "stream",
     "text": [
      "model yolo_nas_l loaded\n"
     ]
    },
    {
     "name": "stderr",
     "output_type": "stream",
     "text": [
      "[2023-11-30 19:43:02] INFO - checkpoint_utils.py - Successfully loaded model weights from /Users/mautushid/github/Cowsformer/lms_checkpoints/n100_yolo_na_i1_exp_yolo_nas_l_100_1/ckpt_best.pth EMA checkpoint.\n"
     ]
    },
    {
     "name": "stdout",
     "output_type": "stream",
     "text": [
      "model yolo_nas_l loaded\n"
     ]
    },
    {
     "name": "stderr",
     "output_type": "stream",
     "text": [
      "[2023-11-30 19:43:04] INFO - checkpoint_utils.py - Successfully loaded model weights from /Users/mautushid/github/Cowsformer/lms_checkpoints/n200_yolo_na_i1_exp_yolo_nas_l_200_1/ckpt_best.pth EMA checkpoint.\n"
     ]
    },
    {
     "name": "stdout",
     "output_type": "stream",
     "text": [
      "model yolo_nas_l loaded\n"
     ]
    }
   ],
   "source": [
    "models_l = []\n",
    "\n",
    "# Loop over each path and load the model\n",
    "for path in finetuned_model_path_l:\n",
    "    model_l = my_nas.load(path_model,path)  \n",
    "    models_l.append(model_l)"
   ]
  },
  {
   "cell_type": "code",
   "execution_count": 9,
   "metadata": {},
   "outputs": [
    {
     "name": "stderr",
     "output_type": "stream",
     "text": [
      "[2023-11-30 19:43:07] INFO - detection_dataset.py - Dataset Initialization in progress. `cache_annotations=True` causes the process to take longer due to full dataset indexing.\n",
      "Indexing dataset annotations: 100%|██████████| 221/221 [00:01<00:00, 199.60it/s]\n",
      "Testing:   0%|          | 0/14 [00:00<?, ?it/s][W ParallelNative.cpp:229] Warning: Cannot set number of intraop threads after parallel work has started or after set_num_threads call when using native parallel backend (function set_num_threads)\n",
      "[W ParallelNative.cpp:229] Warning: Cannot set number of intraop threads after parallel work has started or after set_num_threads call when using native parallel backend (function set_num_threads)\n",
      "Testing: 100%|██████████| 14/14 [08:39<00:00, 37.14s/it]\n",
      "[2023-11-30 19:51:48] INFO - detection_dataset.py - Dataset Initialization in progress. `cache_annotations=True` causes the process to take longer due to full dataset indexing.\n",
      "Indexing dataset annotations: 100%|██████████| 221/221 [00:00<00:00, 1627.03it/s]\n",
      "Testing:   0%|          | 0/14 [00:00<?, ?it/s][W ParallelNative.cpp:229] Warning: Cannot set number of intraop threads after parallel work has started or after set_num_threads call when using native parallel backend (function set_num_threads)\n",
      "[W ParallelNative.cpp:229] Warning: Cannot set number of intraop threads after parallel work has started or after set_num_threads call when using native parallel backend (function set_num_threads)\n",
      "Testing: 100%|██████████| 14/14 [07:47<00:00, 33.41s/it]\n",
      "[2023-11-30 19:59:36] INFO - detection_dataset.py - Dataset Initialization in progress. `cache_annotations=True` causes the process to take longer due to full dataset indexing.\n",
      "Indexing dataset annotations: 100%|██████████| 221/221 [00:01<00:00, 195.70it/s]\n",
      "Testing:   0%|          | 0/14 [00:00<?, ?it/s][W ParallelNative.cpp:229] Warning: Cannot set number of intraop threads after parallel work has started or after set_num_threads call when using native parallel backend (function set_num_threads)\n",
      "[W ParallelNative.cpp:229] Warning: Cannot set number of intraop threads after parallel work has started or after set_num_threads call when using native parallel backend (function set_num_threads)\n",
      "Testing: 100%|██████████| 14/14 [08:14<00:00, 35.33s/it]\n",
      "[2023-11-30 20:07:52] INFO - detection_dataset.py - Dataset Initialization in progress. `cache_annotations=True` causes the process to take longer due to full dataset indexing.\n",
      "Indexing dataset annotations: 100%|██████████| 221/221 [00:00<00:00, 1830.65it/s]\n",
      "Testing:   0%|          | 0/14 [00:00<?, ?it/s][W ParallelNative.cpp:229] Warning: Cannot set number of intraop threads after parallel work has started or after set_num_threads call when using native parallel backend (function set_num_threads)\n",
      "[W ParallelNative.cpp:229] Warning: Cannot set number of intraop threads after parallel work has started or after set_num_threads call when using native parallel backend (function set_num_threads)\n",
      "Testing: 100%|██████████| 14/14 [08:20<00:00, 35.77s/it]\n",
      "[2023-11-30 20:16:13] INFO - detection_dataset.py - Dataset Initialization in progress. `cache_annotations=True` causes the process to take longer due to full dataset indexing.\n",
      "Indexing dataset annotations: 100%|██████████| 221/221 [00:01<00:00, 188.53it/s]\n",
      "Testing:   0%|          | 0/14 [00:00<?, ?it/s][W ParallelNative.cpp:229] Warning: Cannot set number of intraop threads after parallel work has started or after set_num_threads call when using native parallel backend (function set_num_threads)\n",
      "[W ParallelNative.cpp:229] Warning: Cannot set number of intraop threads after parallel work has started or after set_num_threads call when using native parallel backend (function set_num_threads)\n",
      "Testing: 100%|██████████| 14/14 [08:08<00:00, 27.85s/it]"
     ]
    },
    {
     "name": "stderr",
     "output_type": "stream",
     "text": [
      "Testing: 100%|██████████| 14/14 [08:18<00:00, 35.59s/it]\n"
     ]
    }
   ],
   "source": [
    "evaluation_results_l = []\n",
    "\n",
    "for model in models_l:\n",
    "    metrics_l = my_nas.evaluate_trained_model(model, data_yaml_path, \"test\")  # Replace with your evaluation function\n",
    "    evaluation_results_l.append(metrics_l)"
   ]
  },
  {
   "cell_type": "code",
   "execution_count": 13,
   "metadata": {},
   "outputs": [
    {
     "data": {
      "text/plain": [
       "[{'Precision@0.50': 0.8778926730155945,\n",
       "  'Recall@0.50': 0.9509333372116089,\n",
       "  'mAP@0.50': 0.9416659474372864,\n",
       "  'F1@0.50': 0.9129544496536255,\n",
       "  'Precision@0.50:0.95': 0.6848350167274475,\n",
       "  'Recall@0.50:0.95': 0.7418133020401001,\n",
       "  'mAP@0.50:0.95': 0.7040277719497681,\n",
       "  'F1@0.50:0.95': 0.7121864557266235},\n",
       " {'Precision@0.50': 0.8762327432632446,\n",
       "  'Recall@0.50': 0.9477333426475525,\n",
       "  'mAP@0.50': 0.9333202838897705,\n",
       "  'F1@0.50': 0.910581648349762,\n",
       "  'Precision@0.50:0.95': 0.6809664964675903,\n",
       "  'Recall@0.50:0.95': 0.7365333437919617,\n",
       "  'mAP@0.50:0.95': 0.6991042494773865,\n",
       "  'F1@0.50:0.95': 0.7076607942581177},\n",
       " {'Precision@0.50': 0.8529130816459656,\n",
       "  'Recall@0.50': 0.9525333046913147,\n",
       "  'mAP@0.50': 0.9408437609672546,\n",
       "  'F1@0.50': 0.8999747633934021,\n",
       "  'Precision@0.50:0.95': 0.6539636850357056,\n",
       "  'Recall@0.50:0.95': 0.7303466796875,\n",
       "  'mAP@0.50:0.95': 0.6920601725578308,\n",
       "  'F1@0.50:0.95': 0.6900478601455688},\n",
       " {'Precision@0.50': 0.8535885214805603,\n",
       "  'Recall@0.50': 0.9514666795730591,\n",
       "  'mAP@0.50': 0.9407812356948853,\n",
       "  'F1@0.50': 0.8998739123344421,\n",
       "  'Precision@0.50:0.95': 0.6638755798339844,\n",
       "  'Recall@0.50:0.95': 0.7400000095367432,\n",
       "  'mAP@0.50:0.95': 0.705262303352356,\n",
       "  'F1@0.50:0.95': 0.6998738646507263},\n",
       " {'Precision@0.50': 0.8695439100265503,\n",
       "  'Recall@0.50': 0.9455999732017517,\n",
       "  'mAP@0.50': 0.930613100528717,\n",
       "  'F1@0.50': 0.9059785604476929,\n",
       "  'Precision@0.50:0.95': 0.6824914216995239,\n",
       "  'Recall@0.50:0.95': 0.7421866655349731,\n",
       "  'mAP@0.50:0.95': 0.7072656154632568,\n",
       "  'F1@0.50:0.95': 0.7110883593559265}]"
      ]
     },
     "execution_count": 13,
     "metadata": {},
     "output_type": "execute_result"
    }
   ],
   "source": [
    "evaluation_results_l\n",
    "#evaluation_results_m"
   ]
  },
  {
   "cell_type": "code",
   "execution_count": 14,
   "metadata": {},
   "outputs": [
    {
     "data": {
      "text/plain": [
       "[{'Precision@0.50': 0.8538681864738464,\n",
       "  'Recall@0.50': 0.9535999894142151,\n",
       "  'mAP@0.50': 0.9403137564659119,\n",
       "  'F1@0.50': 0.9009826183319092,\n",
       "  'Precision@0.50:0.95': 0.6519102454185486,\n",
       "  'Recall@0.50:0.95': 0.7280533909797668,\n",
       "  'mAP@0.50:0.95': 0.6889483332633972,\n",
       "  'F1@0.50:0.95': 0.6878811120986938},\n",
       " {'Precision@0.50': 0.8388603329658508,\n",
       "  'Recall@0.50': 0.9578666687011719,\n",
       "  'mAP@0.50': 0.9380720257759094,\n",
       "  'F1@0.50': 0.8944222927093506,\n",
       "  'Precision@0.50:0.95': 0.6468939781188965,\n",
       "  'Recall@0.50:0.95': 0.7386666536331177,\n",
       "  'mAP@0.50:0.95': 0.7012360692024231,\n",
       "  'F1@0.50:0.95': 0.6897410154342651},\n",
       " {'Precision@0.50': 0.8396982550621033,\n",
       "  'Recall@0.50': 0.9498666524887085,\n",
       "  'mAP@0.50': 0.9275175333023071,\n",
       "  'F1@0.50': 0.891391396522522,\n",
       "  'Precision@0.50:0.95': 0.6423856616020203,\n",
       "  'Recall@0.50:0.95': 0.7266666889190674,\n",
       "  'mAP@0.50:0.95': 0.6827025413513184,\n",
       "  'F1@0.50:0.95': 0.6819319128990173},\n",
       " {'Precision@0.50': 0.8426806330680847,\n",
       "  'Recall@0.50': 0.9455999732017517,\n",
       "  'mAP@0.50': 0.9286679029464722,\n",
       "  'F1@0.50': 0.8911786675453186,\n",
       "  'Precision@0.50:0.95': 0.642157793045044,\n",
       "  'Recall@0.50:0.95': 0.7205867171287537,\n",
       "  'mAP@0.50:0.95': 0.6806446313858032,\n",
       "  'F1@0.50:0.95': 0.679115355014801},\n",
       " {'Precision@0.50': 0.8437204957008362,\n",
       "  'Recall@0.50': 0.9530666470527649,\n",
       "  'mAP@0.50': 0.9385061264038086,\n",
       "  'F1@0.50': 0.8950663208961487,\n",
       "  'Precision@0.50:0.95': 0.6427761912345886,\n",
       "  'Recall@0.50:0.95': 0.7260799407958984,\n",
       "  'mAP@0.50:0.95': 0.6872483491897583,\n",
       "  'F1@0.50:0.95': 0.6818932890892029}]"
      ]
     },
     "execution_count": 14,
     "metadata": {},
     "output_type": "execute_result"
    }
   ],
   "source": [
    "evaluation_results_m"
   ]
  },
  {
   "cell_type": "code",
   "execution_count": null,
   "metadata": {},
   "outputs": [],
   "source": [
    "###########for the small model ######################"
   ]
  },
  {
   "cell_type": "code",
   "execution_count": 15,
   "metadata": {},
   "outputs": [],
   "source": [
    "path_model = 'yolo_nas_s' \n",
    "\n",
    "\n",
    "\n",
    "finetuned_model_path_s = [\"/Users/mautushid/github/Cowsformer/lms_checkpoints/n10_yolo_na_i1_exp_yolo_nas_s_10_1/ckpt_best.pth\", \n",
    "                        \"/Users/mautushid/github/Cowsformer/lms_checkpoints/n25_yolo_na_i1_exp_yolo_nas_s_25_1/ckpt_best.pth\", \n",
    "                        \"/Users/mautushid/github/Cowsformer/lms_checkpoints/n50_yolo_na_i1_exp_yolo_nas_s_50_1/ckpt_best.pth\", \n",
    "                        \"/Users/mautushid/github/Cowsformer/lms_checkpoints/n100_yolo_na_i1_exp_yolo_nas_s_100_1/ckpt_best.pth\",\n",
    "                        \"/Users/mautushid/github/Cowsformer/lms_checkpoints/n200_yolo_na_i1_exp_yolo_nas_s_200_1/ckpt_best.pth\"]\n"
   ]
  },
  {
   "cell_type": "code",
   "execution_count": 16,
   "metadata": {},
   "outputs": [
    {
     "name": "stderr",
     "output_type": "stream",
     "text": [
      "[2023-11-30 20:27:03] INFO - checkpoint_utils.py - Successfully loaded model weights from /Users/mautushid/github/Cowsformer/lms_checkpoints/n10_yolo_na_i1_exp_yolo_nas_s_10_1/ckpt_best.pth EMA checkpoint.\n"
     ]
    },
    {
     "name": "stdout",
     "output_type": "stream",
     "text": [
      "model yolo_nas_s loaded\n"
     ]
    },
    {
     "name": "stderr",
     "output_type": "stream",
     "text": [
      "[2023-11-30 20:27:03] INFO - checkpoint_utils.py - Successfully loaded model weights from /Users/mautushid/github/Cowsformer/lms_checkpoints/n25_yolo_na_i1_exp_yolo_nas_s_25_1/ckpt_best.pth EMA checkpoint.\n"
     ]
    },
    {
     "name": "stdout",
     "output_type": "stream",
     "text": [
      "model yolo_nas_s loaded\n"
     ]
    },
    {
     "name": "stderr",
     "output_type": "stream",
     "text": [
      "[2023-11-30 20:27:04] INFO - checkpoint_utils.py - Successfully loaded model weights from /Users/mautushid/github/Cowsformer/lms_checkpoints/n50_yolo_na_i1_exp_yolo_nas_s_50_1/ckpt_best.pth EMA checkpoint.\n"
     ]
    },
    {
     "name": "stdout",
     "output_type": "stream",
     "text": [
      "model yolo_nas_s loaded\n"
     ]
    },
    {
     "name": "stderr",
     "output_type": "stream",
     "text": [
      "[2023-11-30 20:27:05] INFO - checkpoint_utils.py - Successfully loaded model weights from /Users/mautushid/github/Cowsformer/lms_checkpoints/n100_yolo_na_i1_exp_yolo_nas_s_100_1/ckpt_best.pth EMA checkpoint.\n"
     ]
    },
    {
     "name": "stdout",
     "output_type": "stream",
     "text": [
      "model yolo_nas_s loaded\n"
     ]
    },
    {
     "name": "stderr",
     "output_type": "stream",
     "text": [
      "[2023-11-30 20:27:05] INFO - checkpoint_utils.py - Successfully loaded model weights from /Users/mautushid/github/Cowsformer/lms_checkpoints/n200_yolo_na_i1_exp_yolo_nas_s_200_1/ckpt_best.pth EMA checkpoint.\n"
     ]
    },
    {
     "name": "stdout",
     "output_type": "stream",
     "text": [
      "model yolo_nas_s loaded\n"
     ]
    }
   ],
   "source": [
    "models_s = []\n",
    "\n",
    "# Loop over each path and load the model\n",
    "for path in finetuned_model_path_s:\n",
    "    model_s = my_nas.load(path_model,path)  \n",
    "    models_s.append(model_s)"
   ]
  },
  {
   "cell_type": "code",
   "execution_count": 17,
   "metadata": {},
   "outputs": [
    {
     "name": "stderr",
     "output_type": "stream",
     "text": [
      "[2023-11-30 20:27:08] INFO - detection_dataset.py - Dataset Initialization in progress. `cache_annotations=True` causes the process to take longer due to full dataset indexing.\n",
      "Indexing dataset annotations: 100%|██████████| 221/221 [00:01<00:00, 200.69it/s]\n",
      "Testing:   0%|          | 0/14 [00:00<?, ?it/s][W ParallelNative.cpp:229] Warning: Cannot set number of intraop threads after parallel work has started or after set_num_threads call when using native parallel backend (function set_num_threads)\n",
      "[W ParallelNative.cpp:229] Warning: Cannot set number of intraop threads after parallel work has started or after set_num_threads call when using native parallel backend (function set_num_threads)\n",
      "Testing: 100%|██████████| 14/14 [04:06<00:00, 17.61s/it]\n",
      "[2023-11-30 20:31:16] INFO - detection_dataset.py - Dataset Initialization in progress. `cache_annotations=True` causes the process to take longer due to full dataset indexing.\n",
      "Indexing dataset annotations: 100%|██████████| 221/221 [00:00<00:00, 1736.38it/s]\n",
      "Testing:   0%|          | 0/14 [00:00<?, ?it/s][W ParallelNative.cpp:229] Warning: Cannot set number of intraop threads after parallel work has started or after set_num_threads call when using native parallel backend (function set_num_threads)\n",
      "[W ParallelNative.cpp:229] Warning: Cannot set number of intraop threads after parallel work has started or after set_num_threads call when using native parallel backend (function set_num_threads)\n",
      "Testing: 100%|██████████| 14/14 [03:43<00:00, 15.97s/it]\n",
      "[2023-11-30 20:35:00] INFO - detection_dataset.py - Dataset Initialization in progress. `cache_annotations=True` causes the process to take longer due to full dataset indexing.\n",
      "Indexing dataset annotations: 100%|██████████| 221/221 [00:00<00:00, 1772.12it/s]\n",
      "Testing:   0%|          | 0/14 [00:00<?, ?it/s][W ParallelNative.cpp:229] Warning: Cannot set number of intraop threads after parallel work has started or after set_num_threads call when using native parallel backend (function set_num_threads)\n",
      "[W ParallelNative.cpp:229] Warning: Cannot set number of intraop threads after parallel work has started or after set_num_threads call when using native parallel backend (function set_num_threads)\n",
      "Testing: 100%|██████████| 14/14 [03:51<00:00, 16.50s/it]\n",
      "[2023-11-30 20:38:51] INFO - detection_dataset.py - Dataset Initialization in progress. `cache_annotations=True` causes the process to take longer due to full dataset indexing.\n",
      "Indexing dataset annotations: 100%|██████████| 221/221 [00:00<00:00, 1708.02it/s]\n",
      "Testing:   0%|          | 0/14 [00:00<?, ?it/s][W ParallelNative.cpp:229] Warning: Cannot set number of intraop threads after parallel work has started or after set_num_threads call when using native parallel backend (function set_num_threads)\n",
      "[W ParallelNative.cpp:229] Warning: Cannot set number of intraop threads after parallel work has started or after set_num_threads call when using native parallel backend (function set_num_threads)\n",
      "Testing: 100%|██████████| 14/14 [03:40<00:00, 15.72s/it]\n",
      "[2023-11-30 20:42:31] INFO - detection_dataset.py - Dataset Initialization in progress. `cache_annotations=True` causes the process to take longer due to full dataset indexing.\n",
      "Indexing dataset annotations: 100%|██████████| 221/221 [00:01<00:00, 192.15it/s]\n",
      "Testing:   0%|          | 0/14 [00:00<?, ?it/s][W ParallelNative.cpp:229] Warning: Cannot set number of intraop threads after parallel work has started or after set_num_threads call when using native parallel backend (function set_num_threads)\n",
      "[W ParallelNative.cpp:229] Warning: Cannot set number of intraop threads after parallel work has started or after set_num_threads call when using native parallel backend (function set_num_threads)\n",
      "Testing: 100%|██████████| 14/14 [04:21<00:00, 14.77s/it]"
     ]
    },
    {
     "name": "stderr",
     "output_type": "stream",
     "text": [
      "Testing: 100%|██████████| 14/14 [04:31<00:00, 19.42s/it]\n"
     ]
    }
   ],
   "source": [
    "evaluation_results_s = []\n",
    "\n",
    "for model in models_s:\n",
    "    metrics_s = my_nas.evaluate_trained_model(model, data_yaml_path, \"test\")  \n",
    "    evaluation_results_s.append(metrics_s)"
   ]
  },
  {
   "cell_type": "code",
   "execution_count": null,
   "metadata": {},
   "outputs": [],
   "source": []
  },
  {
   "cell_type": "code",
   "execution_count": 24,
   "metadata": {},
   "outputs": [
    {
     "data": {
      "text/plain": [
       "\"\\ndf_l = pd.DataFrame(evaluation_results_l)\\ndf_m = pd.DataFrame(evaluation_results_m)\\ndf_s = pd.DataFrame(evaluation_results_s)\\n\\ndf_l = pd.DataFrame(evaluation_results_l)\\ndf_m = pd.DataFrame(evaluation_results_m)\\ndf_s = pd.DataFrame(evaluation_results_s)\\n\\n# Specific model labels\\nmodel_labels = ['10', '25', '50', '100', '200']\\n\\n# Plotting\\nplt.figure(figsize=(12, 6))\\n\\n# mAP@0.50 Plot\\nplt.subplot(1, 2, 1)\\nplt.plot(df_l['mAP@0.50'], '-o', label='mAP@0.50 (Large)')\\nplt.plot(df_m['mAP@0.50'], '-s', label='mAP@0.50 (Medium)')\\nplt.plot(df_s['mAP@0.50'], '-^', label='mAP@0.50 (Small)')\\nplt.title('Comparison of mAP@0.50')\\nplt.xlabel('Image Data Size')\\nplt.ylabel('mAP@0.50')\\nplt.xticks(range(len(df_l)), model_labels)\\nplt.legend()\\nplt.grid(True)\\n\\n# mAP@0.50:0.95 Plot\\nplt.subplot(1, 2, 2)\\nplt.plot(df_l['mAP@0.50:0.95'], '-o', label='mAP@0.50:0.95 (Large)')\\nplt.plot(df_m['mAP@0.50:0.95'], '-o', label='mAP@0.50:0.95 (Medium)')\\nplt.plot(df_s['mAP@0.50:0.95'], '-o', label='mAP@0.50:0.95 (Small)')\\nplt.title('Comparison of mAP@0.50:0.95')\\nplt.xlabel('Model')\\nplt.ylabel('mAP@0.50:0.95')\\nplt.xticks(range(len(df_l)), model_labels)\\nplt.legend()\\nplt.grid(True)\\n\\nplt.tight_layout()\\nplt.show()\\n\""
      ]
     },
     "execution_count": 24,
     "metadata": {},
     "output_type": "execute_result"
    }
   ],
   "source": [
    "'''\n",
    "df_l = pd.DataFrame(evaluation_results_l)\n",
    "df_m = pd.DataFrame(evaluation_results_m)\n",
    "df_s = pd.DataFrame(evaluation_results_s)\n",
    "\n",
    "df_l = pd.DataFrame(evaluation_results_l)\n",
    "df_m = pd.DataFrame(evaluation_results_m)\n",
    "df_s = pd.DataFrame(evaluation_results_s)\n",
    "\n",
    "# Specific model labels\n",
    "model_labels = ['10', '25', '50', '100', '200']\n",
    "\n",
    "# Plotting\n",
    "plt.figure(figsize=(12, 6))\n",
    "\n",
    "# mAP@0.50 Plot\n",
    "plt.subplot(1, 2, 1)\n",
    "plt.plot(df_l['mAP@0.50'], '-o', label='mAP@0.50 (Large)')\n",
    "plt.plot(df_m['mAP@0.50'], '-s', label='mAP@0.50 (Medium)')\n",
    "plt.plot(df_s['mAP@0.50'], '-^', label='mAP@0.50 (Small)')\n",
    "plt.title('Comparison of mAP@0.50')\n",
    "plt.xlabel('Image Data Size')\n",
    "plt.ylabel('mAP@0.50')\n",
    "plt.xticks(range(len(df_l)), model_labels)\n",
    "plt.legend()\n",
    "plt.grid(True)\n",
    "\n",
    "# mAP@0.50:0.95 Plot\n",
    "plt.subplot(1, 2, 2)\n",
    "plt.plot(df_l['mAP@0.50:0.95'], '-o', label='mAP@0.50:0.95 (Large)')\n",
    "plt.plot(df_m['mAP@0.50:0.95'], '-o', label='mAP@0.50:0.95 (Medium)')\n",
    "plt.plot(df_s['mAP@0.50:0.95'], '-o', label='mAP@0.50:0.95 (Small)')\n",
    "plt.title('Comparison of mAP@0.50:0.95')\n",
    "plt.xlabel('Model')\n",
    "plt.ylabel('mAP@0.50:0.95')\n",
    "plt.xticks(range(len(df_l)), model_labels)\n",
    "plt.legend()\n",
    "plt.grid(True)\n",
    "\n",
    "plt.tight_layout()\n",
    "plt.show()\n",
    "'''"
   ]
  },
  {
   "cell_type": "code",
   "execution_count": 23,
   "metadata": {},
   "outputs": [
    {
     "data": {
      "image/png": "[encoded data removed]",
      "text/plain": [
       "<Figure size 1200x600 with 1 Axes>"
      ]
     },
     "metadata": {},
     "output_type": "display_data"
    }
   ],
   "source": [
    "\n",
    "# Convert them to DataFrames\n",
    "df_l = pd.DataFrame(evaluation_results_l)\n",
    "df_m = pd.DataFrame(evaluation_results_m)\n",
    "df_s = pd.DataFrame(evaluation_results_s)\n",
    "\n",
    "# Specific model labels\n",
    "model_labels = ['model_10', 'model_25', 'model_50', 'model_100', 'model_200']\n",
    "\n",
    "# Plotting\n",
    "plt.figure(figsize=(12, 6))\n",
    "\n",
    "# Plot for mAP@0.50\n",
    "plt.plot(df_l['mAP@0.50'], '-o', label='mAP@0.50 (Large)')\n",
    "plt.plot(df_m['mAP@0.50'], '-s', label='mAP@0.50 (Medium)')\n",
    "plt.plot(df_s['mAP@0.50'], '-^', label='mAP@0.50 (Small)')\n",
    "\n",
    "# Plot for mAP@0.50:0.95\n",
    "plt.plot(df_l['mAP@0.50:0.95'], '--o', label='mAP@0.50:0.95 (Large)')\n",
    "plt.plot(df_m['mAP@0.50:0.95'], '--s', label='mAP@0.50:0.95 (Medium)')\n",
    "plt.plot(df_s['mAP@0.50:0.95'], '--^', label='mAP@0.50:0.95 (Small)')\n",
    "\n",
    "# Setting the labels and title\n",
    "plt.title('Comparison of mAP@0.50 and mAP@0.50:0.95')\n",
    "plt.xlabel('Model')\n",
    "plt.ylabel('Metric Value')\n",
    "plt.xticks(range(len(df_l)), model_labels)\n",
    "plt.legend()\n",
    "plt.grid(True)\n",
    "plt.tight_layout()\n",
    "plt.show()\n"
   ]
  }
 ],
 "metadata": {
  "kernelspec": {
   "display_name": "myenv",
   "language": "python",
   "name": "python3"
  },
  "language_info": {
   "codemirror_mode": {
    "name": "ipython",
    "version": 3
   },
   "file_extension": ".py",
   "mimetype": "text/x-python",
   "name": "python",
   "nbconvert_exporter": "python",
   "pygments_lexer": "ipython3",
   "version": "3.9.16"
  }
 },
 "nbformat": 4,
 "nbformat_minor": 2
}
