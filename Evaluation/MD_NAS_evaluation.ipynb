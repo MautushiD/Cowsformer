{
 "cells": [
  {
   "cell_type": "code",
   "execution_count": 1,
   "metadata": {},
   "outputs": [
    {
     "name": "stdout",
     "output_type": "stream",
     "text": [
      "/Users/mautushid/github/Cowsformer\n"
     ]
    }
   ],
   "source": [
    "import os\n",
    "from ultralytics import NAS\n",
    "os.chdir(\"..\")\n",
    "ROOT = os.getcwd()\n",
    "print(ROOT)\n"
   ]
  },
  {
   "cell_type": "code",
   "execution_count": 2,
   "metadata": {},
   "outputs": [
    {
     "name": "stdout",
     "output_type": "stream",
     "text": [
      "The console stream is logged into /Users/mautushid/sg_logs/console.log\n"
     ]
    },
    {
     "name": "stderr",
     "output_type": "stream",
     "text": [
      "[2023-11-30 18:16:24] INFO - crash_tips_setup.py - Crash tips is enabled. You can set your environment variable to CRASH_HANDLER=FALSE to disable it\n",
      "[2023-11-30 18:16:25] WARNING - __init__.py - Failed to import pytorch_quantization\n",
      "[2023-11-30 18:16:26] WARNING - redirects.py - NOTE: Redirects are currently not supported in Windows or MacOs.\n",
      "[2023-11-30 18:16:36] WARNING - calibrator.py - Failed to import pytorch_quantization\n",
      "[2023-11-30 18:16:36] WARNING - export.py - Failed to import pytorch_quantization\n",
      "[2023-11-30 18:16:36] WARNING - selective_quantization_utils.py - Failed to import pytorch_quantization\n",
      "[2023-11-30 18:16:36] WARNING - env_sanity_check.py - \u001b[31mFailed to verify operating system: Deci officially supports only Linux kernels. Some features may not work as expected.\u001b[0m\n"
     ]
    }
   ],
   "source": [
    "from models.nas import *\n"
   ]
  },
  {
   "cell_type": "code",
   "execution_count": 3,
   "metadata": {},
   "outputs": [
    {
     "name": "stderr",
     "output_type": "stream",
     "text": [
      "[2023-11-30 12:35:14] INFO - checkpoint_utils.py - License Notification: YOLO-NAS pre-trained weights are subjected to the specific license terms and conditions detailed in \n",
      "https://github.com/Deci-AI/super-gradients/blob/master/LICENSE.YOLONAS.md\n",
      "By downloading the pre-trained weight files you agree to comply with these terms.\n",
      "[2023-11-30 12:35:15] INFO - checkpoint_utils.py - Successfully loaded pretrained weights for architecture yolo_nas_m\n"
     ]
    }
   ],
   "source": [
    "### class inits and other inputs\n",
    "\n",
    "path_model = 'yolo_nas_m' \n",
    "dir_train = \"/Users/mautushid/github/Cowsformer/data/cow200/yolov5/train\"\n",
    "dir_val = \"/Users/mautushid/github/Cowsformer/data/cow200/yolov5/val\"\n",
    "dir_test = \"/Users/mautushid/github/Cowsformer/data/cow200/yolov5/test\"\n",
    "name_task = \"cow200\"\n",
    "\n",
    "data_yaml_path = \"/Users/mautushid/github/Cowsformer/data/cow200/yolov5/data.yaml\"\n",
    "finetuned_model_path = [\"/Users/mautushid/github/Cowsformer/lms_checkpoints/n200_yolo_na_i1_exp_yolo_nas_m_200_1/ckpt_best.pth\",\n",
    "                        \"/Users/mautushid/github/Cowsformer/lms_checkpoints/n10_yolo_na_i1_exp_yolo_nas_m_10_1/ckpt_best.pth\", \n",
    "                        \"/Users/mautushid/github/Cowsformer/lms_checkpoints/n25_yolo_na_i1_exp_yolo_nas_m_25_1/ckpt_best.pth\", \n",
    "                        \"/Users/mautushid/github/Cowsformer/lms_checkpoints/n50_yolo_na_i1_exp_yolo_nas_m_50_1/ckpt_best.pth\", \n",
    "                        \"/Users/mautushid/github/Cowsformer/lms_checkpoints/n100_yolo_na_i1_exp_yolo_nas_m_100_1/ckpt_best.pth\"]\n",
    "\n",
    "### Creating instance of Niche_YOLO_NAS class\n",
    "my_nas = Niche_YOLO_NAS(path_model, dir_train, dir_val, dir_test, name_task)"
   ]
  },
  {
   "cell_type": "code",
   "execution_count": 5,
   "metadata": {},
   "outputs": [
    {
     "name": "stderr",
     "output_type": "stream",
     "text": [
      "[2023-11-30 12:35:23] INFO - checkpoint_utils.py - Successfully loaded model weights from /Users/mautushid/github/Cowsformer/lms_checkpoints/n200_yolo_na_i1_exp_yolo_nas_m_200_1/ckpt_best.pth EMA checkpoint.\n"
     ]
    },
    {
     "name": "stdout",
     "output_type": "stream",
     "text": [
      "model yolo_nas_m loaded\n"
     ]
    },
    {
     "name": "stderr",
     "output_type": "stream",
     "text": [
      "[2023-11-30 12:35:24] INFO - checkpoint_utils.py - Successfully loaded model weights from /Users/mautushid/github/Cowsformer/lms_checkpoints/n10_yolo_na_i1_exp_yolo_nas_m_10_1/ckpt_best.pth EMA checkpoint.\n"
     ]
    },
    {
     "name": "stdout",
     "output_type": "stream",
     "text": [
      "model yolo_nas_m loaded\n"
     ]
    },
    {
     "name": "stderr",
     "output_type": "stream",
     "text": [
      "[2023-11-30 12:35:25] INFO - checkpoint_utils.py - Successfully loaded model weights from /Users/mautushid/github/Cowsformer/lms_checkpoints/n25_yolo_na_i1_exp_yolo_nas_m_25_1/ckpt_best.pth EMA checkpoint.\n"
     ]
    },
    {
     "name": "stdout",
     "output_type": "stream",
     "text": [
      "model yolo_nas_m loaded\n"
     ]
    },
    {
     "name": "stderr",
     "output_type": "stream",
     "text": [
      "[2023-11-30 12:35:26] INFO - checkpoint_utils.py - Successfully loaded model weights from /Users/mautushid/github/Cowsformer/lms_checkpoints/n50_yolo_na_i1_exp_yolo_nas_m_50_1/ckpt_best.pth EMA checkpoint.\n"
     ]
    },
    {
     "name": "stdout",
     "output_type": "stream",
     "text": [
      "model yolo_nas_m loaded\n"
     ]
    },
    {
     "name": "stderr",
     "output_type": "stream",
     "text": [
      "[2023-11-30 12:35:27] INFO - checkpoint_utils.py - Successfully loaded model weights from /Users/mautushid/github/Cowsformer/lms_checkpoints/n100_yolo_na_i1_exp_yolo_nas_m_100_1/ckpt_best.pth EMA checkpoint.\n"
     ]
    },
    {
     "name": "stdout",
     "output_type": "stream",
     "text": [
      "model yolo_nas_m loaded\n"
     ]
    }
   ],
   "source": [
    "# Initialize a list to store models\n",
    "models = []\n",
    "\n",
    "# Loop over each path and load the model\n",
    "for path in finetuned_model_path:\n",
    "    model = my_nas.load(path_model,path)  # Load the model using the current path\n",
    "    models.append(model)\n",
    "\n",
    "# Now models list contains all the loaded models\n",
    "# You can now evaluate each model and store the results\n",
    "\n"
   ]
  },
  {
   "cell_type": "code",
   "execution_count": null,
   "metadata": {},
   "outputs": [],
   "source": []
  },
  {
   "cell_type": "code",
   "execution_count": 6,
   "metadata": {},
   "outputs": [
    {
     "name": "stderr",
     "output_type": "stream",
     "text": [
      "[2023-11-30 12:35:32] INFO - detection_dataset.py - Dataset Initialization in progress. `cache_annotations=True` causes the process to take longer due to full dataset indexing.\n",
      "Indexing dataset annotations: 100%|██████████| 221/221 [00:01<00:00, 174.87it/s]\n",
      "Testing:   0%|          | 0/14 [00:00<?, ?it/s][W ParallelNative.cpp:229] Warning: Cannot set number of intraop threads after parallel work has started or after set_num_threads call when using native parallel backend (function set_num_threads)\n",
      "[W ParallelNative.cpp:229] Warning: Cannot set number of intraop threads after parallel work has started or after set_num_threads call when using native parallel backend (function set_num_threads)\n",
      "Testing: 100%|██████████| 14/14 [05:47<00:00, 24.84s/it]\n",
      "[2023-11-30 12:41:21] INFO - detection_dataset.py - Dataset Initialization in progress. `cache_annotations=True` causes the process to take longer due to full dataset indexing.\n",
      "Indexing dataset annotations: 100%|██████████| 221/221 [00:00<00:00, 1709.77it/s]\n",
      "Testing:   0%|          | 0/14 [00:00<?, ?it/s][W ParallelNative.cpp:229] Warning: Cannot set number of intraop threads after parallel work has started or after set_num_threads call when using native parallel backend (function set_num_threads)\n",
      "[W ParallelNative.cpp:229] Warning: Cannot set number of intraop threads after parallel work has started or after set_num_threads call when using native parallel backend (function set_num_threads)\n",
      "Testing: 100%|██████████| 14/14 [05:46<00:00, 24.74s/it]\n",
      "[2023-11-30 12:47:08] INFO - detection_dataset.py - Dataset Initialization in progress. `cache_annotations=True` causes the process to take longer due to full dataset indexing.\n",
      "Indexing dataset annotations: 100%|██████████| 221/221 [00:01<00:00, 190.66it/s]\n",
      "Testing:   0%|          | 0/14 [00:00<?, ?it/s][W ParallelNative.cpp:229] Warning: Cannot set number of intraop threads after parallel work has started or after set_num_threads call when using native parallel backend (function set_num_threads)\n",
      "[W ParallelNative.cpp:229] Warning: Cannot set number of intraop threads after parallel work has started or after set_num_threads call when using native parallel backend (function set_num_threads)\n",
      "Testing: 100%|██████████| 14/14 [06:08<00:00, 26.31s/it]\n",
      "[2023-11-30 12:53:17] INFO - detection_dataset.py - Dataset Initialization in progress. `cache_annotations=True` causes the process to take longer due to full dataset indexing.\n",
      "Indexing dataset annotations: 100%|██████████| 221/221 [00:00<00:00, 1696.00it/s]\n",
      "Testing:   0%|          | 0/14 [00:00<?, ?it/s][W ParallelNative.cpp:229] Warning: Cannot set number of intraop threads after parallel work has started or after set_num_threads call when using native parallel backend (function set_num_threads)\n",
      "[W ParallelNative.cpp:229] Warning: Cannot set number of intraop threads after parallel work has started or after set_num_threads call when using native parallel backend (function set_num_threads)\n",
      "Testing: 100%|██████████| 14/14 [05:42<00:00, 24.43s/it]\n",
      "[2023-11-30 12:59:00] INFO - detection_dataset.py - Dataset Initialization in progress. `cache_annotations=True` causes the process to take longer due to full dataset indexing.\n",
      "Indexing dataset annotations: 100%|██████████| 221/221 [00:01<00:00, 194.87it/s]\n",
      "Testing:   0%|          | 0/14 [00:00<?, ?it/s][W ParallelNative.cpp:229] Warning: Cannot set number of intraop threads after parallel work has started or after set_num_threads call when using native parallel backend (function set_num_threads)\n",
      "[W ParallelNative.cpp:229] Warning: Cannot set number of intraop threads after parallel work has started or after set_num_threads call when using native parallel backend (function set_num_threads)\n",
      "Testing: 100%|██████████| 14/14 [05:59<00:00, 19.42s/it]"
     ]
    },
    {
     "name": "stderr",
     "output_type": "stream",
     "text": [
      "Testing: 100%|██████████| 14/14 [06:09<00:00, 26.37s/it]\n"
     ]
    }
   ],
   "source": [
    "evaluation_results = []\n",
    "\n",
    "for model in models:\n",
    "    metrics = my_nas.evaluate_trained_model(model, data_yaml_path, \"test\")  # Replace with your evaluation function\n",
    "    evaluation_results.append(metrics)"
   ]
  },
  {
   "cell_type": "code",
   "execution_count": 8,
   "metadata": {},
   "outputs": [
    {
     "data": {
      "text/plain": [
       "[{'Precision@0.50': 0.8437204957008362,\n",
       "  'Recall@0.50': 0.9530666470527649,\n",
       "  'mAP@0.50': 0.9385061264038086,\n",
       "  'F1@0.50': 0.8950663208961487,\n",
       "  'Precision@0.50:0.95': 0.6427761912345886,\n",
       "  'Recall@0.50:0.95': 0.7260799407958984,\n",
       "  'mAP@0.50:0.95': 0.6872483491897583,\n",
       "  'F1@0.50:0.95': 0.6818932890892029},\n",
       " {'Precision@0.50': 0.8538681864738464,\n",
       "  'Recall@0.50': 0.9535999894142151,\n",
       "  'mAP@0.50': 0.9403137564659119,\n",
       "  'F1@0.50': 0.9009826183319092,\n",
       "  'Precision@0.50:0.95': 0.6519102454185486,\n",
       "  'Recall@0.50:0.95': 0.7280533909797668,\n",
       "  'mAP@0.50:0.95': 0.6889483332633972,\n",
       "  'F1@0.50:0.95': 0.6878811120986938},\n",
       " {'Precision@0.50': 0.8388603329658508,\n",
       "  'Recall@0.50': 0.9578666687011719,\n",
       "  'mAP@0.50': 0.9380720257759094,\n",
       "  'F1@0.50': 0.8944222927093506,\n",
       "  'Precision@0.50:0.95': 0.6468939781188965,\n",
       "  'Recall@0.50:0.95': 0.7386666536331177,\n",
       "  'mAP@0.50:0.95': 0.7012360692024231,\n",
       "  'F1@0.50:0.95': 0.6897410154342651},\n",
       " {'Precision@0.50': 0.8396982550621033,\n",
       "  'Recall@0.50': 0.9498666524887085,\n",
       "  'mAP@0.50': 0.9275175333023071,\n",
       "  'F1@0.50': 0.891391396522522,\n",
       "  'Precision@0.50:0.95': 0.6423856616020203,\n",
       "  'Recall@0.50:0.95': 0.7266666889190674,\n",
       "  'mAP@0.50:0.95': 0.6827025413513184,\n",
       "  'F1@0.50:0.95': 0.6819319128990173},\n",
       " {'Precision@0.50': 0.8426806330680847,\n",
       "  'Recall@0.50': 0.9455999732017517,\n",
       "  'mAP@0.50': 0.9286679029464722,\n",
       "  'F1@0.50': 0.8911786675453186,\n",
       "  'Precision@0.50:0.95': 0.642157793045044,\n",
       "  'Recall@0.50:0.95': 0.7205867171287537,\n",
       "  'mAP@0.50:0.95': 0.6806446313858032,\n",
       "  'F1@0.50:0.95': 0.679115355014801}]"
      ]
     },
     "execution_count": 8,
     "metadata": {},
     "output_type": "execute_result"
    }
   ],
   "source": [
    "evaluation_results\n"
   ]
  },
  {
   "cell_type": "code",
   "execution_count": 14,
   "metadata": {},
   "outputs": [
    {
     "data": {
      "image/png": "[encoded data removed]",
      "text/plain": [
       "<Figure size 1000x600 with 1 Axes>"
      ]
     },
     "metadata": {},
     "output_type": "display_data"
    }
   ],
   "source": [
    "import pandas as pd\n",
    "import matplotlib.pyplot as plt\n",
    "\n",
    "results_df = pd.DataFrame(evaluation_results)\n",
    "\n",
    "results_df = pd.DataFrame(evaluation_results)\n",
    "\n",
    "# Generate model labels based on the number of entries in your DataFrame\n",
    "model_labels = [f'Model{i+1}' for i in range(len(results_df))]\n",
    "\n",
    "# Plotting\n",
    "plt.figure(figsize=(10, 6))\n",
    "\n",
    "#plt.plot(results_df['Precision@0.50'], '-o', label='Precision@0.50')\n",
    "#plt.plot(results_df['Recall@0.50'], '-s', label='Recall@0.50')\n",
    "plt.plot(results_df['mAP@0.50'], '-^', label='mAP@0.50')\n",
    "#plt.plot(results_df['F1@0.50'], '-d', label='F1@0.50')\n",
    "##plt.plot(results_df['Precision@0.50:0.95'], '-x', label='Precision@0.50:0.95')\n",
    "#plt.plot(results_df['Recall@0.50:0.95'], '-+', label='Recall@0.50:0.95')\n",
    "plt.plot(results_df['mAP@0.50:0.95'], '-*', label='mAP@0.50:0.95')\n",
    "#plt.plot(results_df['F1@0.50:0.95'], '-p', label='F1@0.50:0.95')\n",
    "\n",
    "plt.title('Comparison of Model Evaluation Metrics')\n",
    "plt.xlabel('Model')\n",
    "plt.ylabel('Metrics')\n",
    "plt.xticks(range(len(results_df)), model_labels)  # Dynamic model labels\n",
    "plt.legend()\n",
    "plt.grid(True)\n",
    "plt.show()\n"
   ]
  },
  {
   "cell_type": "code",
   "execution_count": null,
   "metadata": {},
   "outputs": [],
   "source": []
  },
  {
   "cell_type": "code",
   "execution_count": null,
   "metadata": {},
   "outputs": [],
   "source": []
  },
  {
   "cell_type": "code",
   "execution_count": null,
   "metadata": {},
   "outputs": [],
   "source": []
  },
  {
   "cell_type": "code",
   "execution_count": null,
   "metadata": {},
   "outputs": [],
   "source": []
  },
  {
   "cell_type": "code",
   "execution_count": null,
   "metadata": {},
   "outputs": [],
   "source": []
  },
  {
   "cell_type": "code",
   "execution_count": null,
   "metadata": {},
   "outputs": [],
   "source": []
  },
  {
   "cell_type": "code",
   "execution_count": 3,
   "metadata": {},
   "outputs": [
    {
     "name": "stderr",
     "output_type": "stream",
     "text": [
      "[2023-11-30 18:16:43] INFO - checkpoint_utils.py - License Notification: YOLO-NAS pre-trained weights are subjected to the specific license terms and conditions detailed in \n",
      "https://github.com/Deci-AI/super-gradients/blob/master/LICENSE.YOLONAS.md\n",
      "By downloading the pre-trained weight files you agree to comply with these terms.\n",
      "[2023-11-30 18:16:43] INFO - checkpoint_utils.py - Successfully loaded pretrained weights for architecture yolo_nas_m\n"
     ]
    }
   ],
   "source": [
    "path_model = 'yolo_nas_m' \n",
    "dir_train = \"/Users/mautushid/github/Cowsformer/data/cow200/yolov5/train\"\n",
    "dir_val = \"/Users/mautushid/github/Cowsformer/data/cow200/yolov5/val\"\n",
    "dir_test = \"/Users/mautushid/github/Cowsformer/data/cow200/yolov5/test\"\n",
    "name_task = \"cow200\"\n",
    "\n",
    "data_yaml_path = \"/Users/mautushid/github/Cowsformer/data/cow200/yolov5/data.yaml\"\n",
    "finetuned_model_path = \"/Users/mautushid/github/Cowsformer/lms_checkpoints/n10_yolo_na_i1_exp_yolo_nas_m_10_1/ckpt_best.pth\"\n",
    "### Creating instance of Niche_YOLO_NAS class\n",
    "my_nas = Niche_YOLO_NAS(path_model, dir_train, dir_val, dir_test, name_task)"
   ]
  },
  {
   "cell_type": "code",
   "execution_count": 4,
   "metadata": {},
   "outputs": [
    {
     "name": "stderr",
     "output_type": "stream",
     "text": [
      "[2023-11-30 18:16:48] INFO - checkpoint_utils.py - Successfully loaded model weights from /Users/mautushid/github/Cowsformer/lms_checkpoints/n10_yolo_na_i1_exp_yolo_nas_m_10_1/ckpt_best.pth EMA checkpoint.\n"
     ]
    },
    {
     "name": "stdout",
     "output_type": "stream",
     "text": [
      "model yolo_nas_m loaded\n"
     ]
    }
   ],
   "source": [
    "### load finetuned model\n",
    "\n",
    "best_model = my_nas.load(path_model,finetuned_model_path)\n",
    "#my_nas = torch.load(finetuned_model_path)\n",
    "#print(checkpoint.keys())\n"
   ]
  },
  {
   "cell_type": "code",
   "execution_count": 5,
   "metadata": {},
   "outputs": [
    {
     "name": "stderr",
     "output_type": "stream",
     "text": [
      "[2023-11-30 18:16:50] INFO - detection_dataset.py - Dataset Initialization in progress. `cache_annotations=True` causes the process to take longer due to full dataset indexing.\n",
      "Indexing dataset annotations: 100%|██████████| 221/221 [00:01<00:00, 196.36it/s]\n",
      "Testing:   0%|          | 0/14 [00:00<?, ?it/s][W ParallelNative.cpp:229] Warning: Cannot set number of intraop threads after parallel work has started or after set_num_threads call when using native parallel backend (function set_num_threads)\n",
      "[W ParallelNative.cpp:229] Warning: Cannot set number of intraop threads after parallel work has started or after set_num_threads call when using native parallel backend (function set_num_threads)\n",
      "Testing: 100%|██████████| 14/14 [06:15<00:00, 20.66s/it]"
     ]
    },
    {
     "data": {
      "text/plain": [
       "{'Precision@0.50': 0.8538681864738464,\n",
       " 'Recall@0.50': 0.9535999894142151,\n",
       " 'mAP@0.50': 0.9403137564659119,\n",
       " 'F1@0.50': 0.9009826183319092,\n",
       " 'Precision@0.50:0.95': 0.6519102454185486,\n",
       " 'Recall@0.50:0.95': 0.7280533909797668,\n",
       " 'mAP@0.50:0.95': 0.6889483332633972,\n",
       " 'F1@0.50:0.95': 0.6878811120986938}"
      ]
     },
     "execution_count": 5,
     "metadata": {},
     "output_type": "execute_result"
    },
    {
     "name": "stderr",
     "output_type": "stream",
     "text": [
      "Testing: 100%|██████████| 14/14 [06:25<00:00, 27.52s/it]\n"
     ]
    }
   ],
   "source": [
    "my_nas.evaluate_trained_model(best_model, data_yaml_path, \"test\")"
   ]
  },
  {
   "cell_type": "code",
   "execution_count": null,
   "metadata": {},
   "outputs": [],
   "source": [
    "#my_nas.get_evaluation_matrix(best_model, data_yaml_path)"
   ]
  },
  {
   "cell_type": "code",
   "execution_count": 8,
   "metadata": {},
   "outputs": [
    {
     "name": "stderr",
     "output_type": "stream",
     "text": [
      "[2023-11-30 18:30:05] INFO - checkpoint_utils.py - License Notification: YOLO-NAS pre-trained weights are subjected to the specific license terms and conditions detailed in \n",
      "https://github.com/Deci-AI/super-gradients/blob/master/LICENSE.YOLONAS.md\n",
      "By downloading the pre-trained weight files you agree to comply with these terms.\n",
      "[2023-11-30 18:30:05] INFO - checkpoint_utils.py - Successfully loaded pretrained weights for architecture yolo_nas_s\n"
     ]
    }
   ],
   "source": [
    "path_model = 'yolo_nas_s' \n",
    "dir_train = \"/Users/mautushid/github/Cowsformer/data/cow200/yolov5/train\"\n",
    "dir_val = \"/Users/mautushid/github/Cowsformer/data/cow200/yolov5/val\"\n",
    "dir_test = \"/Users/mautushid/github/Cowsformer/data/cow200/yolov5/test\"\n",
    "name_task = \"cow200\"\n",
    "\n",
    "data_yaml_path = \"/Users/mautushid/github/Cowsformer/data/cow200/yolov5/data.yaml\"\n",
    "finetuned_model_path_s = \"/Users/mautushid/github/Cowsformer/lms_checkpoints/n10_yolo_na_i1_exp_yolo_nas_s_10_1/ckpt_best.pth\"\n",
    "### Creating instance of Niche_YOLO_NAS class\n",
    "my_nas = Niche_YOLO_NAS(path_model, dir_train, dir_val, dir_test, name_task)"
   ]
  },
  {
   "cell_type": "code",
   "execution_count": 10,
   "metadata": {},
   "outputs": [
    {
     "name": "stderr",
     "output_type": "stream",
     "text": [
      "[2023-11-30 18:30:49] INFO - checkpoint_utils.py - Successfully loaded model weights from /Users/mautushid/github/Cowsformer/lms_checkpoints/n10_yolo_na_i1_exp_yolo_nas_s_10_1/ckpt_best.pth EMA checkpoint.\n"
     ]
    },
    {
     "name": "stdout",
     "output_type": "stream",
     "text": [
      "model yolo_nas_s loaded\n"
     ]
    }
   ],
   "source": [
    "best_model_s = my_nas.load(path_model,finetuned_model_path_s)"
   ]
  },
  {
   "cell_type": "code",
   "execution_count": 11,
   "metadata": {},
   "outputs": [
    {
     "name": "stderr",
     "output_type": "stream",
     "text": [
      "[2023-11-30 18:31:16] INFO - detection_dataset.py - Dataset Initialization in progress. `cache_annotations=True` causes the process to take longer due to full dataset indexing.\n",
      "Indexing dataset annotations: 100%|██████████| 221/221 [00:01<00:00, 193.08it/s]\n",
      "Testing:   0%|          | 0/14 [00:00<?, ?it/s][W ParallelNative.cpp:229] Warning: Cannot set number of intraop threads after parallel work has started or after set_num_threads call when using native parallel backend (function set_num_threads)\n",
      "[W ParallelNative.cpp:229] Warning: Cannot set number of intraop threads after parallel work has started or after set_num_threads call when using native parallel backend (function set_num_threads)\n",
      "Testing: 100%|██████████| 14/14 [03:58<00:00, 12.40s/it]"
     ]
    },
    {
     "data": {
      "text/plain": [
       "{'Precision@0.50': 0.8495752215385437,\n",
       " 'Recall@0.50': 0.9066666960716248,\n",
       " 'mAP@0.50': 0.8858373165130615,\n",
       " 'F1@0.50': 0.8771929740905762,\n",
       " 'Precision@0.50:0.95': 0.6161919236183167,\n",
       " 'Recall@0.50:0.95': 0.6576000452041626,\n",
       " 'mAP@0.50:0.95': 0.6127024292945862,\n",
       " 'F1@0.50:0.95': 0.6362229585647583}"
      ]
     },
     "execution_count": 11,
     "metadata": {},
     "output_type": "execute_result"
    },
    {
     "name": "stderr",
     "output_type": "stream",
     "text": [
      "Testing: 100%|██████████| 14/14 [04:08<00:00, 17.72s/it]\n"
     ]
    }
   ],
   "source": [
    "my_nas.evaluate_trained_model(best_model_s, data_yaml_path, \"test\")"
   ]
  }
 ],
 "metadata": {
  "kernelspec": {
   "display_name": "myenv",
   "language": "python",
   "name": "python3"
  },
  "language_info": {
   "codemirror_mode": {
    "name": "ipython",
    "version": 3
   },
   "file_extension": ".py",
   "mimetype": "text/x-python",
   "name": "python",
   "nbconvert_exporter": "python",
   "pygments_lexer": "ipython3",
   "version": "3.9.16"
  }
 },
 "nbformat": 4,
 "nbformat_minor": 2
}
