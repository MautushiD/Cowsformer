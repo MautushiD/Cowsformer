{
 "cells": [
  {
   "cell_type": "code",
   "execution_count": 1,
   "metadata": {},
   "outputs": [
    {
     "name": "stdout",
     "output_type": "stream",
     "text": [
      "/Users/mautushid/github/Cowsformer\n"
     ]
    }
   ],
   "source": [
    "import os\n",
    "from ultralytics import NAS\n",
    "os.chdir(\"..\")\n",
    "ROOT = os.getcwd()\n",
    "print(ROOT)\n"
   ]
  },
  {
   "cell_type": "code",
   "execution_count": 2,
   "metadata": {},
   "outputs": [
    {
     "name": "stderr",
     "output_type": "stream",
     "text": [
      "[2023-10-19 09:16:00] INFO - crash_tips_setup.py - Crash tips is enabled. You can set your environment variable to CRASH_HANDLER=FALSE to disable it\n"
     ]
    },
    {
     "name": "stdout",
     "output_type": "stream",
     "text": [
      "The console stream is logged into /Users/mautushid/sg_logs/console.log\n"
     ]
    },
    {
     "name": "stderr",
     "output_type": "stream",
     "text": [
      "[2023-10-19 09:16:00] WARNING - redirects.py - NOTE: Redirects are currently not supported in Windows or MacOs.\n",
      "[2023-10-19 09:16:02] WARNING - __init__.py - Failed to import pytorch_quantization\n",
      "[2023-10-19 09:16:02] WARNING - calibrator.py - Failed to import pytorch_quantization\n",
      "[2023-10-19 09:16:02] WARNING - export.py - Failed to import pytorch_quantization\n",
      "[2023-10-19 09:16:02] WARNING - selective_quantization_utils.py - Failed to import pytorch_quantization\n",
      "[2023-10-19 09:16:02] WARNING - env_sanity_check.py - \u001b[31mFailed to verify operating system: Deci officially supports only Linux kernels. Some features may not work as expected.\u001b[0m\n"
     ]
    }
   ],
   "source": [
    "from models.nas import *"
   ]
  },
  {
   "cell_type": "code",
   "execution_count": null,
   "metadata": {},
   "outputs": [],
   "source": []
  },
  {
   "cell_type": "code",
   "execution_count": 4,
   "metadata": {},
   "outputs": [
    {
     "ename": "UnknownTypeException",
     "evalue": "The required model, \"/Users/mautushid/github/Cowsformer/n200_yolo_na_i1_trial100/ckpt_best.pth\", was not found in SuperGradients. See docs or all_architectures.py for supported model names.\n Did you mean: yolo_nas_s?",
     "output_type": "error",
     "traceback": [
      "\u001b[0;31m---------------------------------------------------------------------------\u001b[0m",
      "\u001b[0;31mUnknownTypeException\u001b[0m                      Traceback (most recent call last)",
      "\u001b[1;32m/Users/mautushid/github/Cowsformer/notebooks/MD_debugging.ipynb Cell 4\u001b[0m line \u001b[0;36m7\n\u001b[1;32m      <a href='vscode-notebook-cell:/Users/mautushid/github/Cowsformer/notebooks/MD_debugging.ipynb#X26sZmlsZQ%3D%3D?line=4'>5</a>\u001b[0m dir_test \u001b[39m=\u001b[39m \u001b[39m\"\u001b[39m\u001b[39m/Users/mautushid/github/Cowsformer/data/cow200/yolov5/test\u001b[39m\u001b[39m\"\u001b[39m\n\u001b[1;32m      <a href='vscode-notebook-cell:/Users/mautushid/github/Cowsformer/notebooks/MD_debugging.ipynb#X26sZmlsZQ%3D%3D?line=5'>6</a>\u001b[0m name_task \u001b[39m=\u001b[39m \u001b[39m\"\u001b[39m\u001b[39mcow200\u001b[39m\u001b[39m\"\u001b[39m\n\u001b[0;32m----> <a href='vscode-notebook-cell:/Users/mautushid/github/Cowsformer/notebooks/MD_debugging.ipynb#X26sZmlsZQ%3D%3D?line=6'>7</a>\u001b[0m my_nas \u001b[39m=\u001b[39m Niche_YOLO_NAS(path_model, dir_train, dir_val, dir_test, name_task)\n",
      "File \u001b[0;32m~/github/Cowsformer/models/nas.py:39\u001b[0m, in \u001b[0;36mNiche_YOLO_NAS.__init__\u001b[0;34m(self, path_model, dir_train, dir_val, dir_test, name_task)\u001b[0m\n\u001b[1;32m     37\u001b[0m \u001b[39mself\u001b[39m\u001b[39m.\u001b[39mdir_val \u001b[39m=\u001b[39m dir_val\n\u001b[1;32m     38\u001b[0m \u001b[39mself\u001b[39m\u001b[39m.\u001b[39mdir_test \u001b[39m=\u001b[39m dir_test\n\u001b[0;32m---> 39\u001b[0m \u001b[39mself\u001b[39m\u001b[39m.\u001b[39mmodel \u001b[39m=\u001b[39m get_model(path_model, pretrained_weights\u001b[39m=\u001b[39;49m\u001b[39m\"\u001b[39;49m\u001b[39mcoco\u001b[39;49m\u001b[39m\"\u001b[39;49m)\u001b[39m.\u001b[39mto(DEVICE)\n\u001b[1;32m     40\u001b[0m \u001b[39mself\u001b[39m\u001b[39m.\u001b[39mtrainer \u001b[39m=\u001b[39m Trainer(experiment_name\u001b[39m=\u001b[39mname_task)\n\u001b[1;32m     41\u001b[0m \u001b[39mself\u001b[39m\u001b[39m.\u001b[39mtrain_data \u001b[39m=\u001b[39m \u001b[39mNone\u001b[39;00m\n",
      "File \u001b[0;32m~/miniconda3/envs/myenv/lib/python3.9/site-packages/super_gradients/training/models/model_factory.py:199\u001b[0m, in \u001b[0;36mget\u001b[0;34m(model_name, arch_params, num_classes, strict_load, checkpoint_path, pretrained_weights, load_backbone, download_required_code, checkpoint_num_classes)\u001b[0m\n\u001b[1;32m    197\u001b[0m     net \u001b[39m=\u001b[39m instantiate_model(model_name, arch_params, checkpoint_num_classes, pretrained_weights, download_required_code)\n\u001b[1;32m    198\u001b[0m \u001b[39melse\u001b[39;00m:\n\u001b[0;32m--> 199\u001b[0m     net \u001b[39m=\u001b[39m instantiate_model(model_name, arch_params, num_classes, pretrained_weights, download_required_code)\n\u001b[1;32m    201\u001b[0m \u001b[39mif\u001b[39;00m load_backbone \u001b[39mand\u001b[39;00m \u001b[39mnot\u001b[39;00m checkpoint_path:\n\u001b[1;32m    202\u001b[0m     \u001b[39mraise\u001b[39;00m \u001b[39mValueError\u001b[39;00m(\u001b[39m\"\u001b[39m\u001b[39mPlease set checkpoint_path when load_backbone=True\u001b[39m\u001b[39m\"\u001b[39m)\n",
      "File \u001b[0;32m~/miniconda3/envs/myenv/lib/python3.9/site-packages/super_gradients/training/models/model_factory.py:103\u001b[0m, in \u001b[0;36minstantiate_model\u001b[0;34m(model_name, arch_params, num_classes, pretrained_weights, download_required_code)\u001b[0m\n\u001b[1;32m    100\u001b[0m     arch_params \u001b[39m=\u001b[39m {}\n\u001b[1;32m    101\u001b[0m arch_params \u001b[39m=\u001b[39m core_utils\u001b[39m.\u001b[39mHpmStruct(\u001b[39m*\u001b[39m\u001b[39m*\u001b[39march_params)\n\u001b[0;32m--> 103\u001b[0m architecture_cls, arch_params, pretrained_weights_path, is_remote \u001b[39m=\u001b[39m get_architecture(model_name, arch_params, download_required_code)\n\u001b[1;32m    105\u001b[0m \u001b[39mif\u001b[39;00m \u001b[39mnot\u001b[39;00m \u001b[39missubclass\u001b[39m(architecture_cls, SgModule):\n\u001b[1;32m    106\u001b[0m     net \u001b[39m=\u001b[39m architecture_cls(\u001b[39m*\u001b[39m\u001b[39m*\u001b[39march_params\u001b[39m.\u001b[39mto_dict(include_schema\u001b[39m=\u001b[39m\u001b[39mFalse\u001b[39;00m))\n",
      "File \u001b[0;32m~/miniconda3/envs/myenv/lib/python3.9/site-packages/super_gradients/training/models/model_factory.py:73\u001b[0m, in \u001b[0;36mget_architecture\u001b[0;34m(model_name, arch_params, download_required_code)\u001b[0m\n\u001b[1;32m     71\u001b[0m         arch_params, is_remote \u001b[39m=\u001b[39m _arch_params, \u001b[39mTrue\u001b[39;00m\n\u001b[1;32m     72\u001b[0m     \u001b[39melse\u001b[39;00m:\n\u001b[0;32m---> 73\u001b[0m         \u001b[39mraise\u001b[39;00m UnknownTypeException(\n\u001b[1;32m     74\u001b[0m             message\u001b[39m=\u001b[39m\u001b[39mf\u001b[39m\u001b[39m'\u001b[39m\u001b[39mThe required model, \u001b[39m\u001b[39m\"\u001b[39m\u001b[39m{\u001b[39;00mmodel_name\u001b[39m}\u001b[39;00m\u001b[39m\"\u001b[39m\u001b[39m, was not found in SuperGradients. See docs or all_architectures.py for supported model names.\u001b[39m\u001b[39m'\u001b[39m,\n\u001b[1;32m     75\u001b[0m             unknown_type\u001b[39m=\u001b[39mmodel_name,\n\u001b[1;32m     76\u001b[0m             choices\u001b[39m=\u001b[39m\u001b[39mlist\u001b[39m(ARCHITECTURES\u001b[39m.\u001b[39mkeys()),\n\u001b[1;32m     77\u001b[0m         )\n\u001b[1;32m     79\u001b[0m \u001b[39mreturn\u001b[39;00m get_param(ARCHITECTURES, model_name), arch_params, pretrained_weights_path, is_remote\n",
      "\u001b[0;31mUnknownTypeException\u001b[0m: The required model, \"/Users/mautushid/github/Cowsformer/n200_yolo_na_i1_trial100/ckpt_best.pth\", was not found in SuperGradients. See docs or all_architectures.py for supported model names.\n Did you mean: yolo_nas_s?"
     ]
    }
   ],
   "source": [
    "### Creating instance of Niche_YOLO_NAS class\n",
    "path_model = 'yolo_nas_l' #\"/Users/mautushid/github/Cowsformer/n200_yolo_na_i1_trial100/ckpt_best.pth\"\n",
    "dir_train = \"/Users/mautushid/github/Cowsformer/data/cow200/yolov5/train\"\n",
    "dir_val = \"/Users/mautushid/github/Cowsformer/data/cow200/yolov5/val\"\n",
    "dir_test = \"/Users/mautushid/github/Cowsformer/data/cow200/yolov5/test\"\n",
    "name_task = \"cow200\"\n",
    "my_nas = Niche_YOLO_NAS(path_model, dir_train, dir_val, dir_test, name_task)\n"
   ]
  },
  {
   "cell_type": "code",
   "execution_count": null,
   "metadata": {},
   "outputs": [],
   "source": []
  },
  {
   "cell_type": "code",
   "execution_count": null,
   "metadata": {},
   "outputs": [],
   "source": []
  },
  {
   "cell_type": "code",
   "execution_count": null,
   "metadata": {},
   "outputs": [],
   "source": []
  },
  {
   "cell_type": "code",
   "execution_count": null,
   "metadata": {},
   "outputs": [],
   "source": []
  },
  {
   "cell_type": "code",
   "execution_count": null,
   "metadata": {},
   "outputs": [],
   "source": []
  },
  {
   "cell_type": "code",
   "execution_count": null,
   "metadata": {},
   "outputs": [],
   "source": []
  },
  {
   "cell_type": "code",
   "execution_count": 11,
   "metadata": {},
   "outputs": [],
   "source": [
    "yaml_path = \"/Users/mautushid/github/Cowsformer/data/cow200/yolov5/data.yaml\"\n",
    "with open(yaml_path, 'r') as f:\n",
    "    data = yaml.safe_load(f)\n",
    "\n",
    "CLASSES = data.get('names', [])\n",
    "\n",
    "CHECKPOINT_DIR = '/Users/mautushid/github/Cowsformer/n200_yolo_na_i1_trial100'\n",
    "project = os.path.basename(os.path.dirname(os.path.dirname(yaml_path)))\n",
    "# Format the project name\n",
    "EXPERIMENT_NAME = project.lower().replace(\" \", \"_\")\n"
   ]
  },
  {
   "cell_type": "code",
   "execution_count": 9,
   "metadata": {},
   "outputs": [
    {
     "name": "stderr",
     "output_type": "stream",
     "text": [
      "[2023-10-19 08:16:27] INFO - checkpoint_utils.py - Successfully loaded model weights from /Users/mautushid/github/Cowsformer/n200_yolo_na_i1_trial100/ckpt_best.pth EMA checkpoint.\n"
     ]
    }
   ],
   "source": [
    "trainer = Trainer(experiment_name=EXPERIMENT_NAME,\n",
    "                  ckpt_root_dir=CHECKPOINT_DIR)\n",
    "MODEL_ARCH = 'yolo_nas_l'\n",
    "DEVICE = 'cuda' if torch.cuda.is_available() else \"cpu\"\n",
    "best_model = models.get(\n",
    "    MODEL_ARCH,\n",
    "    num_classes=80,  # len(dataset_params['classes']),\n",
    "    checkpoint_path=\"/Users/mautushid/github/Cowsformer/n200_yolo_na_i1_trial100/ckpt_best.pth\"\n",
    ").to(DEVICE)\n"
   ]
  },
  {
   "cell_type": "code",
   "execution_count": 21,
   "metadata": {},
   "outputs": [
    {
     "ename": "TypeError",
     "evalue": "__init__() missing 5 required positional arguments: 'path_model', 'dir_train', 'dir_val', 'dir_test', and 'name_task'",
     "output_type": "error",
     "traceback": [
      "\u001b[0;31m---------------------------------------------------------------------------\u001b[0m",
      "\u001b[0;31mTypeError\u001b[0m                                 Traceback (most recent call last)",
      "\u001b[1;32m/Users/mautushid/github/Cowsformer/notebooks/MD_debugging.ipynb Cell 5\u001b[0m line \u001b[0;36m7\n\u001b[1;32m      <a href='vscode-notebook-cell:/Users/mautushid/github/Cowsformer/notebooks/MD_debugging.ipynb#X14sZmlsZQ%3D%3D?line=4'>5</a>\u001b[0m dir_test \u001b[39m=\u001b[39m \u001b[39m\"\u001b[39m\u001b[39m/Users/mautushid/github/Cowsformer/data/cow200/yolov5/test\u001b[39m\u001b[39m\"\u001b[39m\n\u001b[1;32m      <a href='vscode-notebook-cell:/Users/mautushid/github/Cowsformer/notebooks/MD_debugging.ipynb#X14sZmlsZQ%3D%3D?line=5'>6</a>\u001b[0m name_task \u001b[39m=\u001b[39m \u001b[39m\"\u001b[39m\u001b[39mcow200\u001b[39m\u001b[39m\"\u001b[39m\n\u001b[0;32m----> <a href='vscode-notebook-cell:/Users/mautushid/github/Cowsformer/notebooks/MD_debugging.ipynb#X14sZmlsZQ%3D%3D?line=6'>7</a>\u001b[0m nas \u001b[39m=\u001b[39m Niche_YOLO_NAS()\n",
      "\u001b[0;31mTypeError\u001b[0m: __init__() missing 5 required positional arguments: 'path_model', 'dir_train', 'dir_val', 'dir_test', and 'name_task'"
     ]
    }
   ],
   "source": []
  },
  {
   "cell_type": "code",
   "execution_count": null,
   "metadata": {},
   "outputs": [],
   "source": []
  },
  {
   "cell_type": "code",
   "execution_count": null,
   "metadata": {},
   "outputs": [],
   "source": []
  },
  {
   "cell_type": "code",
   "execution_count": null,
   "metadata": {},
   "outputs": [],
   "source": []
  },
  {
   "cell_type": "code",
   "execution_count": null,
   "metadata": {},
   "outputs": [],
   "source": []
  },
  {
   "cell_type": "code",
   "execution_count": null,
   "metadata": {},
   "outputs": [],
   "source": []
  },
  {
   "cell_type": "code",
   "execution_count": null,
   "metadata": {},
   "outputs": [],
   "source": []
  },
  {
   "cell_type": "code",
   "execution_count": null,
   "metadata": {},
   "outputs": [],
   "source": []
  },
  {
   "cell_type": "code",
   "execution_count": 12,
   "metadata": {},
   "outputs": [
    {
     "name": "stderr",
     "output_type": "stream",
     "text": [
      "Caching annotations: 100%|██████████| 221/221 [00:01<00:00, 180.21it/s]\n",
      "Caching annotations: 100%|██████████| 35/35 [00:00<00:00, 246.66it/s]\n",
      "Caching annotations:   0%|          | 0/45 [00:00<?, ?it/s]"
     ]
    },
    {
     "name": "stderr",
     "output_type": "stream",
     "text": [
      "Caching annotations: 100%|██████████| 45/45 [00:00<00:00, 260.12it/s]\n"
     ]
    }
   ],
   "source": [
    "from super_gradients.training.dataloaders.dataloaders import (\n",
    "    coco_detection_yolo_format_train, coco_detection_yolo_format_val)\n",
    "dataset_params = {\n",
    "    'data_dir': '/Users/mautushid/github/Cowsformer/data/cow200/yolov5',\n",
    "    'train_images_dir': 'train/images',\n",
    "    'train_labels_dir': 'train/labels',\n",
    "    'val_images_dir': 'val/images',\n",
    "    'val_labels_dir': 'val/labels',\n",
    "    'test_images_dir': 'test/images',\n",
    "    'test_labels_dir': 'test/labels',\n",
    "    'classes': CLASSES\n",
    "}\n",
    "########################################\n",
    "\n",
    "train_data = coco_detection_yolo_format_train(\n",
    "    dataset_params={\n",
    "        'data_dir': dataset_params['data_dir'],\n",
    "        'images_dir': dataset_params['train_images_dir'],\n",
    "        'labels_dir': dataset_params['train_labels_dir'],\n",
    "        'classes': dataset_params['classes']\n",
    "    },\n",
    "    dataloader_params={\n",
    "        'batch_size': 16,\n",
    "        'num_workers': 2\n",
    "    }\n",
    ")\n",
    "\n",
    "val_data = coco_detection_yolo_format_val(\n",
    "    dataset_params={\n",
    "        'data_dir': dataset_params['data_dir'],\n",
    "        'images_dir': dataset_params['val_images_dir'],\n",
    "        'labels_dir': dataset_params['val_labels_dir'],\n",
    "        'classes': dataset_params['classes']\n",
    "    },\n",
    "    dataloader_params={\n",
    "        'batch_size': 16,\n",
    "        'num_workers': 2\n",
    "    }\n",
    ")\n",
    "\n",
    "test_data = coco_detection_yolo_format_val(\n",
    "    dataset_params={\n",
    "        'data_dir': dataset_params['data_dir'],\n",
    "        'images_dir': dataset_params['test_images_dir'],\n",
    "        'labels_dir': dataset_params['test_labels_dir'],\n",
    "        'classes': dataset_params['classes']\n",
    "    },\n",
    "    dataloader_params={\n",
    "        'batch_size': 16,\n",
    "        'num_workers': 2\n",
    "    }\n",
    ")\n"
   ]
  },
  {
   "cell_type": "code",
   "execution_count": 19,
   "metadata": {},
   "outputs": [
    {
     "name": "stderr",
     "output_type": "stream",
     "text": [
      "Test:   0%|          | 0/3 [00:00<?, ?it/s][W ParallelNative.cpp:229] Warning: Cannot set number of intraop threads after parallel work has started or after set_num_threads call when using native parallel backend (function set_num_threads)\n",
      "[W ParallelNative.cpp:229] Warning: Cannot set number of intraop threads after parallel work has started or after set_num_threads call when using native parallel backend (function set_num_threads)\n",
      "Test: 100%|██████████| 3/3 [01:19<00:00, 22.96s/it]"
     ]
    },
    {
     "data": {
      "text/plain": [
       "{'Precision@0.50': tensor(0.8243),\n",
       " 'Recall@0.50': tensor(0.9683),\n",
       " 'mAP@0.50': tensor(0.9506),\n",
       " 'F1@0.50': tensor(0.8905)}"
      ]
     },
     "execution_count": 19,
     "metadata": {},
     "output_type": "execute_result"
    },
    {
     "name": "stderr",
     "output_type": "stream",
     "text": [
      "Test: 100%|██████████| 3/3 [01:29<00:00, 29.79s/it]\n"
     ]
    }
   ],
   "source": [
    "#best_model\n",
    "trainer.test(\n",
    "    model=best_model,\n",
    "    test_loader=test_data,\n",
    "    test_metrics_list=DetectionMetrics_050(\n",
    "        score_thres=0.5,\n",
    "        top_k_predictions=300,\n",
    "        num_cls=len(dataset_params['classes']),\n",
    "        normalize_targets=True,\n",
    "        post_prediction_callback=PPYoloEPostPredictionCallback(\n",
    "            score_threshold=0.5,\n",
    "            nms_top_k=1000,\n",
    "            max_predictions=300,\n",
    "            nms_threshold=0.8\n",
    "        )\n",
    "    )\n",
    ")\n"
   ]
  },
  {
   "cell_type": "code",
   "execution_count": null,
   "metadata": {},
   "outputs": [],
   "source": []
  },
  {
   "cell_type": "code",
   "execution_count": null,
   "metadata": {},
   "outputs": [],
   "source": []
  },
  {
   "cell_type": "code",
   "execution_count": null,
   "metadata": {},
   "outputs": [],
   "source": []
  }
 ],
 "metadata": {
  "kernelspec": {
   "display_name": "myenv",
   "language": "python",
   "name": "python3"
  },
  "language_info": {
   "codemirror_mode": {
    "name": "ipython",
    "version": 3
   },
   "file_extension": ".py",
   "mimetype": "text/x-python",
   "name": "python",
   "nbconvert_exporter": "python",
   "pygments_lexer": "ipython3",
   "version": "3.9.16"
  }
 },
 "nbformat": 4,
 "nbformat_minor": 2
}
