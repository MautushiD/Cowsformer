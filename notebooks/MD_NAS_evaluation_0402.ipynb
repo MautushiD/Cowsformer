{
 "cells": [
  {
   "cell_type": "code",
   "execution_count": 1,
   "metadata": {},
   "outputs": [
    {
     "name": "stderr",
     "output_type": "stream",
     "text": [
      "Matplotlib created a temporary cache directory at /localscratch/2188895/matplotlib-3e74p769 because the default path (/home/jovyan/.cache/matplotlib) is not a writable directory; it is highly recommended to set the MPLCONFIGDIR environment variable to a writable directory, in particular to speed up the import of Matplotlib and to better support multiprocessing.\n"
     ]
    },
    {
     "name": "stdout",
     "output_type": "stream",
     "text": [
      "The console stream is logged into /home/mautushid/sg_logs/console.log\n"
     ]
    },
    {
     "name": "stderr",
     "output_type": "stream",
     "text": [
      "[2024-03-05 02:26:34] INFO - crash_tips_setup.py - Crash tips is enabled. You can set your environment variable to CRASH_HANDLER=FALSE to disable it\n",
      "[2024-03-05 02:26:34] WARNING - __init__.py - Failed to import pytorch_quantization\n",
      "[2024-03-05 02:26:36] WARNING - calibrator.py - Failed to import pytorch_quantization\n",
      "[2024-03-05 02:26:36] WARNING - export.py - Failed to import pytorch_quantization\n",
      "[2024-03-05 02:26:36] WARNING - selective_quantization_utils.py - Failed to import pytorch_quantization\n"
     ]
    }
   ],
   "source": [
    "import os\n",
    "os.chdir(\"..\")\n",
    "ROOT = os.getcwd()\n",
    "os.environ['TORCH_HOME'] = '/home/mautushid/.torch'\n",
    "from ultralytics import NAS\n",
    "from models.nas import *\n",
    "import supervision as sv\n",
    "from API import*\n",
    "import argparse\n",
    "\n",
    "from evaluate import from_sv\n",
    "import pandas as pd\n"
   ]
  },
  {
   "cell_type": "code",
   "execution_count": null,
   "metadata": {},
   "outputs": [],
   "source": [
    "\n",
    "\"\"\"\n",
    "if __name__ == \"__main__\":\n",
    "    # parse arguments\n",
    "    parser = argparse.ArgumentParser()\n",
    "    parser.add_argument(\"--yolo_base\", type=str, help=\"yolo_nas_l,yolo_nas_m\")\n",
    "    parser.add_argument(\"--config\", type=str,\n",
    "                        help=\"1a_angle_t2s, 1b_angle_s2t, 2_light, 3_breed, 4_all\")\n",
    "    parser.add_argument(\"--exp_name\", type=str,\n",
    "                        help=\"exp\")\n",
    "    parser.add_argument(\"--n\", type=int, help=\"16, 32,64, 128...\")\n",
    "    parser.add_argument(\"--iteration\", type=int, help=\"1,2,3...\")\n",
    "    args = parser.parse_args()\n",
    "    main(args)\n",
    "\"\"\""
   ]
  },
  {
   "cell_type": "code",
   "execution_count": null,
   "metadata": {},
   "outputs": [],
   "source": [
    "def main(yolo_base, config, exp_name, n, iteration):\n",
    "    config_short = config.split(\"_\")[-1]\n",
    "\n",
    "    dir_train = ROOT+ \"/data/\"+config+\"/tv/\"+ exp_name+\"_\"+ yolo_base + \"_\" + \\\n",
    "            str(n) + \"_\" + str(iteration) + \"_\" + config_short+ \"_\" + yolo_base +\"_\" + str(n) + \"_\" + str(iteration) + \"/\"+ \"train\"\n",
    "    dir_val = ROOT+ \"/data/\"+config+\"/tv/\"+ exp_name+\"_\"+ yolo_base + \"_\" + \\\n",
    "                str(n) + \"_\" + str(iteration) + \"_\" + config_short+ \"_\" + yolo_base +\"_\" + str(n) + \"_\" + str(iteration) + \"/\"+ \"val\"\n",
    "    dir_test = ROOT+ \"/data/\"+config + \"/test\"\n",
    "\n",
    "    data_yaml_path = ROOT+ \"/data/\"+config+\"/tv/\"+ exp_name+\"_\"+ yolo_base + \"_\" + \\\n",
    "                str(n) + \"_\" + str(iteration) + \"_\" + config_short+ \"_\" + yolo_base +\"_\" + str(n) + \"_\" + str(iteration) + \"/\"+ \"data.yaml\"\n",
    "    base_dir = ROOT + \"/checkpoints/n\" + str(n) + \"_\" + yolo_base + \"_i\" + str(iteration) + \"_\" + config_short\n",
    "    items_under_base = os.listdir(base_dir)[0]\n",
    "    finetuned_model_path = base_dir + \"/\"+ items_under_base + \"/ckpt_best.pth\"\n",
    "    output_dir = dir_test +\"/\"+ yolo_base +\"_\"+ str(n)+\"_\"+str(iteration)+ \"_labelsPred\"\n",
    "\n",
    "    \n",
    "    ### Creating instance of Niche_YOLO_NAS class\n",
    "    my_nas = Niche_YOLO_NAS(yolo_base, dir_train, dir_val, dir_test, \"cow200\")\n",
    "    predictions = my_nas.prediction(data_yaml_path,finetuned_model_path)\n",
    "    my_nas.write_predictions(predictions,output_dir)"
   ]
  },
  {
   "cell_type": "code",
   "execution_count": 5,
   "metadata": {},
   "outputs": [
    {
     "name": "stderr",
     "output_type": "stream",
     "text": [
      "[2024-03-05 02:29:01] INFO - checkpoint_utils.py - License Notification: YOLO-NAS pre-trained weights are subjected to the specific license terms and conditions detailed in \n",
      "https://github.com/Deci-AI/super-gradients/blob/master/LICENSE.YOLONAS.md\n",
      "By downloading the pre-trained weight files you agree to comply with these terms.\n",
      "[2024-03-05 02:29:01] INFO - checkpoint_utils.py - Successfully loaded pretrained weights for architecture yolo_nas_m\n",
      "[2024-03-05 02:29:07] INFO - checkpoint_utils.py - Successfully loaded model weights from /home/mautushid/Cowsformer/checkpoints/n500_yolo_nas_m_i1_t2s/RUN_20240229_223323_595884/ckpt_best.pth EMA checkpoint.\n",
      "[2024-03-05 02:29:07] INFO - pipelines.py - Fusing some of the model's layers. If this takes too much memory, you can deactivate it by setting `fuse_model=False`\n"
     ]
    },
    {
     "name": "stdout",
     "output_type": "stream",
     "text": [
      "model yolo_nas_m loaded\n"
     ]
    },
    {
     "name": "stderr",
     "output_type": "stream",
     "text": [
      "[2024-03-05 02:29:07] INFO - pipelines.py - Fusing some of the model's layers. If this takes too much memory, you can deactivate it by setting `fuse_model=False`\n",
      "[2024-03-05 02:29:07] INFO - pipelines.py - Fusing some of the model's layers. If this takes too much memory, you can deactivate it by setting `fuse_model=False`\n",
      "[2024-03-05 02:29:08] INFO - pipelines.py - Fusing some of the model's layers. If this takes too much memory, you can deactivate it by setting `fuse_model=False`\n",
      "[2024-03-05 02:29:08] INFO - pipelines.py - Fusing some of the model's layers. If this takes too much memory, you can deactivate it by setting `fuse_model=False`\n",
      "[2024-03-05 02:29:08] INFO - pipelines.py - Fusing some of the model's layers. If this takes too much memory, you can deactivate it by setting `fuse_model=False`\n",
      "[2024-03-05 02:29:09] INFO - pipelines.py - Fusing some of the model's layers. If this takes too much memory, you can deactivate it by setting `fuse_model=False`\n",
      "[2024-03-05 02:29:09] INFO - pipelines.py - Fusing some of the model's layers. If this takes too much memory, you can deactivate it by setting `fuse_model=False`\n",
      "[2024-03-05 02:29:09] INFO - pipelines.py - Fusing some of the model's layers. If this takes too much memory, you can deactivate it by setting `fuse_model=False`\n",
      "[2024-03-05 02:29:10] INFO - pipelines.py - Fusing some of the model's layers. If this takes too much memory, you can deactivate it by setting `fuse_model=False`\n",
      "[2024-03-05 02:29:10] INFO - pipelines.py - Fusing some of the model's layers. If this takes too much memory, you can deactivate it by setting `fuse_model=False`\n",
      "[2024-03-05 02:29:10] INFO - pipelines.py - Fusing some of the model's layers. If this takes too much memory, you can deactivate it by setting `fuse_model=False`\n",
      "[2024-03-05 02:29:11] INFO - pipelines.py - Fusing some of the model's layers. If this takes too much memory, you can deactivate it by setting `fuse_model=False`\n",
      "[2024-03-05 02:29:11] INFO - pipelines.py - Fusing some of the model's layers. If this takes too much memory, you can deactivate it by setting `fuse_model=False`\n",
      "[2024-03-05 02:29:11] INFO - pipelines.py - Fusing some of the model's layers. If this takes too much memory, you can deactivate it by setting `fuse_model=False`\n",
      "[2024-03-05 02:29:12] INFO - pipelines.py - Fusing some of the model's layers. If this takes too much memory, you can deactivate it by setting `fuse_model=False`\n",
      "[2024-03-05 02:29:12] INFO - pipelines.py - Fusing some of the model's layers. If this takes too much memory, you can deactivate it by setting `fuse_model=False`\n",
      "[2024-03-05 02:29:12] INFO - pipelines.py - Fusing some of the model's layers. If this takes too much memory, you can deactivate it by setting `fuse_model=False`\n",
      "[2024-03-05 02:29:13] INFO - pipelines.py - Fusing some of the model's layers. If this takes too much memory, you can deactivate it by setting `fuse_model=False`\n",
      "[2024-03-05 02:29:13] INFO - pipelines.py - Fusing some of the model's layers. If this takes too much memory, you can deactivate it by setting `fuse_model=False`\n",
      "[2024-03-05 02:29:13] INFO - pipelines.py - Fusing some of the model's layers. If this takes too much memory, you can deactivate it by setting `fuse_model=False`\n",
      "[2024-03-05 02:29:13] INFO - pipelines.py - Fusing some of the model's layers. If this takes too much memory, you can deactivate it by setting `fuse_model=False`\n",
      "[2024-03-05 02:29:14] INFO - pipelines.py - Fusing some of the model's layers. If this takes too much memory, you can deactivate it by setting `fuse_model=False`\n",
      "[2024-03-05 02:29:14] INFO - pipelines.py - Fusing some of the model's layers. If this takes too much memory, you can deactivate it by setting `fuse_model=False`\n",
      "[2024-03-05 02:29:14] INFO - pipelines.py - Fusing some of the model's layers. If this takes too much memory, you can deactivate it by setting `fuse_model=False`\n",
      "[2024-03-05 02:29:15] INFO - pipelines.py - Fusing some of the model's layers. If this takes too much memory, you can deactivate it by setting `fuse_model=False`\n",
      "[2024-03-05 02:29:15] INFO - pipelines.py - Fusing some of the model's layers. If this takes too much memory, you can deactivate it by setting `fuse_model=False`\n",
      "[2024-03-05 02:29:15] INFO - pipelines.py - Fusing some of the model's layers. If this takes too much memory, you can deactivate it by setting `fuse_model=False`\n",
      "[2024-03-05 02:29:16] INFO - pipelines.py - Fusing some of the model's layers. If this takes too much memory, you can deactivate it by setting `fuse_model=False`\n",
      "[2024-03-05 02:29:16] INFO - pipelines.py - Fusing some of the model's layers. If this takes too much memory, you can deactivate it by setting `fuse_model=False`\n",
      "[2024-03-05 02:29:16] INFO - pipelines.py - Fusing some of the model's layers. If this takes too much memory, you can deactivate it by setting `fuse_model=False`\n",
      "[2024-03-05 02:29:17] INFO - pipelines.py - Fusing some of the model's layers. If this takes too much memory, you can deactivate it by setting `fuse_model=False`\n",
      "[2024-03-05 02:29:18] INFO - pipelines.py - Fusing some of the model's layers. If this takes too much memory, you can deactivate it by setting `fuse_model=False`\n",
      "[2024-03-05 02:29:19] INFO - pipelines.py - Fusing some of the model's layers. If this takes too much memory, you can deactivate it by setting `fuse_model=False`\n",
      "[2024-03-05 02:29:19] INFO - pipelines.py - Fusing some of the model's layers. If this takes too much memory, you can deactivate it by setting `fuse_model=False`\n",
      "[2024-03-05 02:29:20] INFO - pipelines.py - Fusing some of the model's layers. If this takes too much memory, you can deactivate it by setting `fuse_model=False`\n",
      "[2024-03-05 02:29:20] INFO - pipelines.py - Fusing some of the model's layers. If this takes too much memory, you can deactivate it by setting `fuse_model=False`\n",
      "[2024-03-05 02:29:20] INFO - pipelines.py - Fusing some of the model's layers. If this takes too much memory, you can deactivate it by setting `fuse_model=False`\n",
      "[2024-03-05 02:29:21] INFO - pipelines.py - Fusing some of the model's layers. If this takes too much memory, you can deactivate it by setting `fuse_model=False`\n",
      "[2024-03-05 02:29:21] INFO - pipelines.py - Fusing some of the model's layers. If this takes too much memory, you can deactivate it by setting `fuse_model=False`\n",
      "[2024-03-05 02:29:21] INFO - pipelines.py - Fusing some of the model's layers. If this takes too much memory, you can deactivate it by setting `fuse_model=False`\n",
      "[2024-03-05 02:29:21] INFO - pipelines.py - Fusing some of the model's layers. If this takes too much memory, you can deactivate it by setting `fuse_model=False`\n",
      "[2024-03-05 02:29:22] INFO - pipelines.py - Fusing some of the model's layers. If this takes too much memory, you can deactivate it by setting `fuse_model=False`\n",
      "[2024-03-05 02:29:22] INFO - pipelines.py - Fusing some of the model's layers. If this takes too much memory, you can deactivate it by setting `fuse_model=False`\n",
      "[2024-03-05 02:29:23] INFO - pipelines.py - Fusing some of the model's layers. If this takes too much memory, you can deactivate it by setting `fuse_model=False`\n",
      "[2024-03-05 02:29:23] INFO - pipelines.py - Fusing some of the model's layers. If this takes too much memory, you can deactivate it by setting `fuse_model=False`\n",
      "[2024-03-05 02:29:23] INFO - pipelines.py - Fusing some of the model's layers. If this takes too much memory, you can deactivate it by setting `fuse_model=False`\n",
      "[2024-03-05 02:29:23] INFO - pipelines.py - Fusing some of the model's layers. If this takes too much memory, you can deactivate it by setting `fuse_model=False`\n",
      "[2024-03-05 02:29:24] INFO - pipelines.py - Fusing some of the model's layers. If this takes too much memory, you can deactivate it by setting `fuse_model=False`\n",
      "[2024-03-05 02:29:24] INFO - pipelines.py - Fusing some of the model's layers. If this takes too much memory, you can deactivate it by setting `fuse_model=False`\n"
     ]
    }
   ],
   "source": [
    "yolo_base = 'yolo_nas_m'\n",
    "config = '1a_angle_t2s'\n",
    "exp_name = 'exp'\n",
    "n = 500\n",
    "iteration = 1\n",
    "\n",
    "\n",
    "\n",
    "for yolo_base:\n",
    "    if \n",
    "\n",
    "main(yolo_base, config, exp_name, n, iteration)"
   ]
  },
  {
   "cell_type": "code",
   "execution_count": null,
   "metadata": {},
   "outputs": [],
   "source": []
  },
  {
   "cell_type": "code",
   "execution_count": null,
   "metadata": {},
   "outputs": [],
   "source": []
  },
  {
   "cell_type": "code",
   "execution_count": null,
   "metadata": {},
   "outputs": [],
   "source": []
  },
  {
   "cell_type": "code",
   "execution_count": null,
   "metadata": {},
   "outputs": [],
   "source": []
  },
  {
   "cell_type": "code",
   "execution_count": null,
   "metadata": {},
   "outputs": [],
   "source": []
  },
  {
   "cell_type": "code",
   "execution_count": null,
   "metadata": {},
   "outputs": [],
   "source": []
  },
  {
   "cell_type": "code",
   "execution_count": null,
   "metadata": {},
   "outputs": [],
   "source": []
  }
 ],
 "metadata": {
  "kernelspec": {
   "display_name": "Python (torchconda)",
   "language": "python",
   "name": "torchconda"
  },
  "language_info": {
   "codemirror_mode": {
    "name": "ipython",
    "version": 3
   },
   "file_extension": ".py",
   "mimetype": "text/x-python",
   "name": "python",
   "nbconvert_exporter": "python",
   "pygments_lexer": "ipython3",
   "version": "3.10.13"
  }
 },
 "nbformat": 4,
 "nbformat_minor": 2
}
