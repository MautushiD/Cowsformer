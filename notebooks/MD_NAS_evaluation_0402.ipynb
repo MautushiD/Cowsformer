{
 "cells": [
  {
   "cell_type": "code",
   "execution_count": null,
   "metadata": {},
   "outputs": [],
   "source": [
    "import os\n",
    "from ultralytics import NAS\n",
    "os.chdir(\"..\")\n",
    "ROOT = os.getcwd()\n",
    "print(ROOT)\n"
   ]
  },
  {
   "cell_type": "code",
   "execution_count": null,
   "metadata": {},
   "outputs": [],
   "source": [
    "from models.nas import *\n"
   ]
  },
  {
   "cell_type": "code",
   "execution_count": null,
   "metadata": {},
   "outputs": [],
   "source": [
    "### class inits and other inputs\n",
    "\n",
    "path_model = 'yolo_nas_l' \n",
    "dir_train = \"/Users/mautushid/github/Cowsformer/data/cow200/yolov5/train\"\n",
    "dir_val = \"/Users/mautushid/github/Cowsformer/data/cow200/yolov5/val\"\n",
    "dir_test = \"/Users/mautushid/github/Cowsformer/data/cow200/yolov5/test_old\"\n",
    "name_task = \"cow200\"\n",
    "\n",
    "data_yaml_path = \"/Users/mautushid/github/Cowsformer/data/cow200/yolov5/data.yaml\"\n",
    "finetuned_model_path = \"/Users/mautushid/github/Cowsformer/__notebooks/lms_checkpoints/yolo_l_100/n100_yolo_na_i2_exp_yolo_nas_l_100_2/ckpt_best.pth\"\n",
    "\n",
    "### Creating instance of Niche_YOLO_NAS class\n",
    "my_nas = Niche_YOLO_NAS(path_model, dir_train, dir_val, dir_test, name_task)"
   ]
  },
  {
   "cell_type": "code",
   "execution_count": null,
   "metadata": {},
   "outputs": [],
   "source": [
    "model = my_nas.load(path_model,finetuned_model_path)"
   ]
  },
  {
   "cell_type": "code",
   "execution_count": null,
   "metadata": {},
   "outputs": [],
   "source": [
    "import supervision as sv\n",
    "\n",
    "ds = sv.DetectionDataset.from_yolo(\n",
    "    images_directory_path=\"/Users/mautushid/github/Cowsformer/data/cow200/yolov5/test_old/images\",\n",
    "    annotations_directory_path=\"/Users/mautushid/github/Cowsformer/data/cow200/yolov5/test_old/labels\",\n",
    "    data_yaml_path=\"/Users/mautushid/github/Cowsformer/data/cow200/yolov5/data.yaml\",\n",
    "    force_masks=False\n",
    ")\n",
    "CONFIDENCE_TRESHOLD = 0.5\n",
    "\n",
    "predictions = {}\n",
    "\n",
    "for image_name, image in ds.images.items():\n",
    "    result = list(model.predict(\n",
    "        image, conf=CONFIDENCE_TRESHOLD))[0]\n",
    "    detections = sv.Detections(\n",
    "        xyxy=result.prediction.bboxes_xyxy,\n",
    "        #xyxy=result.prediction.bboxes_xywh,\n",
    "        confidence=result.prediction.confidence,\n",
    "        class_id=result.prediction.labels.astype(int)\n",
    "    )\n",
    "    predictions[image_name] = detections"
   ]
  },
  {
   "cell_type": "code",
   "execution_count": null,
   "metadata": {},
   "outputs": [],
   "source": [
    "import os\n",
    "'''\n",
    "# Assuming `predictions` is your dictionary of results as shown above\n",
    "# And assuming `output_directory` is the path to the directory where you want to save the .txt files\n",
    "output_directory = 'path/to/output/directory'\n",
    "\n",
    "# Ensure the output directory exists\n",
    "if not os.path.exists(output_directory):\n",
    "    os.makedirs(output_directory)\n",
    "\n",
    "# Iterate over the predictions and write them to files\n",
    "for image_name, detections in predictions.items():\n",
    "    # Prepare the output file path\n",
    "    base_filename = os.path.splitext(image_name)[0]\n",
    "    output_file_path = os.path.join(output_directory, base_filename + '.txt')\n",
    "\n",
    "    # Open the file and write the detections\n",
    "    with open(output_file_path, 'w') as file:\n",
    "        for bbox, conf, class_id in zip(detections.xyxy, detections.confidence, detections.class_id):\n",
    "            # Create a string for each detection\n",
    "            # Format: class_id x_min y_min x_max y_max confidence\n",
    "            detection_str = f\"{class_id} {bbox[0]} {bbox[1]} {bbox[2]} {bbox[3]} {conf}\\n\"\n",
    "            # Write to file\n",
    "            file.write(detection_str)\n",
    "\n",
    "print(f\"All predictions have been written to {output_directory}\")\n",
    "'''"
   ]
  },
  {
   "cell_type": "code",
   "execution_count": null,
   "metadata": {},
   "outputs": [],
   "source": [
    "from API import*\n",
    "api = YOLO_API(\"/Users/mautushid/github/Cowsformer/data/cow200/yolov5\") \n",
    "lbs = api.get_gt_detections(\n",
    "    \"test_old\")\n",
    "pre = api.get_pred_detections(\n",
    "    \"test_old/output\")"
   ]
  },
  {
   "cell_type": "code",
   "execution_count": null,
   "metadata": {},
   "outputs": [],
   "source": [
    "from evaluate import from_sv"
   ]
  },
  {
   "cell_type": "code",
   "execution_count": null,
   "metadata": {},
   "outputs": [],
   "source": [
    "op = from_sv(pre, lbs)"
   ]
  },
  {
   "cell_type": "code",
   "execution_count": null,
   "metadata": {},
   "outputs": [],
   "source": [
    "import pandas as pd\n",
    "\n",
    "\n",
    "def make_table_row(EvalOutput, dataset_name, model_name, data_size):\n",
    "    # Combine EvalOutput with the additional information\n",
    "    combined_dict = {\n",
    "        **EvalOutput,  # Unpack the EvalOutput dictionary\n",
    "        'config': dataset_name,  # Add dataset_name as 'config'\n",
    "        'model': model_name,  # Add model_name as 'model'\n",
    "        'n': data_size  # Add data_size as 'n'\n",
    "    }\n",
    "\n",
    "    # Create a DataFrame from the combined dictionary\n",
    "    # The index=[0] makes the dictionary values to be considered as a single row\n",
    "    df = pd.DataFrame([combined_dict])\n",
    "\n",
    "    return df\n",
    "\n",
    "\n",
    "\n",
    "dataset_name = \"cow200\"\n",
    "model_name = \"yolo_nas_l\"\n",
    "data_size = \"200\"\n",
    "\n",
    "df = make_table_row(op, dataset_name, model_name, data_size)\n",
    "\n",
    "# Display the DataFrame\n",
    "print(df)"
   ]
  },
  {
   "cell_type": "code",
   "execution_count": null,
   "metadata": {},
   "outputs": [],
   "source": []
  },
  {
   "cell_type": "code",
   "execution_count": null,
   "metadata": {},
   "outputs": [],
   "source": []
  },
  {
   "cell_type": "code",
   "execution_count": null,
   "metadata": {},
   "outputs": [],
   "source": []
  },
  {
   "cell_type": "code",
   "execution_count": null,
   "metadata": {},
   "outputs": [],
   "source": []
  }
 ],
 "metadata": {
  "language_info": {
   "name": "python"
  }
 },
 "nbformat": 4,
 "nbformat_minor": 2
}
