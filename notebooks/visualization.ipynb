{
 "cells": [
  {
   "cell_type": "code",
   "execution_count": 1,
   "metadata": {},
   "outputs": [
    {
     "ename": "NameError",
     "evalue": "name 'os' is not defined",
     "output_type": "error",
     "traceback": [
      "\u001b[0;31m---------------------------------------------------------------------------\u001b[0m",
      "\u001b[0;31mNameError\u001b[0m                                 Traceback (most recent call last)",
      "Cell \u001b[0;32mIn[1], line 1\u001b[0m\n\u001b[0;32m----> 1\u001b[0m \u001b[43mos\u001b[49m\u001b[38;5;241m.\u001b[39mchdir(\u001b[38;5;124m\"\u001b[39m\u001b[38;5;124m..\u001b[39m\u001b[38;5;124m\"\u001b[39m)\n\u001b[1;32m      2\u001b[0m ROOT \u001b[38;5;241m=\u001b[39m os\u001b[38;5;241m.\u001b[39mgetcwd()\n\u001b[1;32m      3\u001b[0m \u001b[38;5;28mprint\u001b[39m(ROOT)\n",
      "\u001b[0;31mNameError\u001b[0m: name 'os' is not defined"
     ]
    }
   ],
   "source": [
    "os.chdir(\"..\")\n",
    "ROOT = os.getcwd()\n",
    "print(ROOT)"
   ]
  },
  {
   "cell_type": "code",
   "execution_count": null,
   "metadata": {},
   "outputs": [],
   "source": [
    "from ultralytics import NAS\n",
    "import logging\n",
    "import os\n",
    "import warnings\n",
    "import pandas as pd\n",
    "import matplotlib.pyplot as plt\n",
    "warnings.filterwarnings(\"ignore\")\n",
    "os.environ['TORCH_HOME'] = '/home/mautushid/.torch'"
   ]
  },
  {
   "cell_type": "code",
   "execution_count": null,
   "metadata": {},
   "outputs": [],
   "source": [
    "# local imports\n",
    "from iou_utils_NAS import *\n",
    "from models.nas import Niche_YOLO_NAS"
   ]
  },
  {
   "cell_type": "code",
   "execution_count": null,
   "metadata": {},
   "outputs": [],
   "source": []
  },
  {
   "cell_type": "code",
   "execution_count": null,
   "metadata": {},
   "outputs": [],
   "source": [
    "# Dataset Directory\n",
    "\n",
    "data_directory = '/home/mautushid/Cowsformer/data'\n",
    "dataset_params['data_dir'] = data_directory\n",
    "test_images = \"/home/mautushid/Cowsformer/data/cow200/yolov5/test/images\"\n",
    "test_labels = \"/home/mautushid/Cowsformer/data/cow200/yolov5/test/labels\"\n",
    "yolo_nas_l = models.get(\"yolo_nas_l\", pretrained_weights=\"coco\")\n",
    "# Loading model (after fine-tuning)\n",
    "model_path = \"/home/mautushid/Cowsformer/checkpoints/n200_yolo_nas_l_i7/RUN_20240222_095231_325505/ckpt_best.pth\"\n",
    "best_model = models.get('yolo_nas_l', num_classes=80,\n",
    "                        checkpoint_path=model_path)"
   ]
  },
  {
   "cell_type": "code",
   "execution_count": null,
   "metadata": {},
   "outputs": [],
   "source": [
    "#predicted_image_list_default = show_predicted_images_from_dir(\n",
    "    yolo_nas_l, test_images, conf=0.5)"
   ]
  },
  {
   "cell_type": "code",
   "execution_count": null,
   "metadata": {},
   "outputs": [],
   "source": [
    "# making predictions for finetuned model\n",
    "#predicted_image_list_finetuned = show_predicted_images_from_dir(\n",
    "    best_model, test_images, conf=0.50)"
   ]
  },
  {
   "cell_type": "code",
   "execution_count": null,
   "metadata": {},
   "outputs": [],
   "source": [
    "'''\n",
    "image_files = sorted(list(Path(test_images).rglob(\"*.jpg\")))\n",
    "label_files = sorted(list(Path(test_labels).rglob(\"*.txt\")))\n",
    "default_model = yolo_nas_l\n",
    "finetuned_model = best_model \n",
    "iou_dicts = []\n",
    "for i in range(len(image_files)):#len(image_files)\n",
    "    test_image_path = str(image_files[i])\n",
    "    test_image_label = str(label_files[i])\n",
    "    prediction_dict = get_boxex_for_all_models(test_image_path,test_image_label,default_model,finetuned_model, conf = 0.5)\n",
    "    print(prediction_dict['image'])\n",
    "    iou_dicts.append(compute_iou_for_all_models(prediction_dict))\n",
    "    draw_boxes_all_models(test_image_path, prediction_dict)\n",
    "'''\n",
    "\n",
    "    "
   ]
  },
  {
   "cell_type": "code",
   "execution_count": null,
   "metadata": {},
   "outputs": [],
   "source": []
  },
  {
   "cell_type": "code",
   "execution_count": null,
   "metadata": {},
   "outputs": [],
   "source": []
  },
  {
   "cell_type": "code",
   "execution_count": null,
   "metadata": {},
   "outputs": [],
   "source": []
  },
  {
   "cell_type": "code",
   "execution_count": null,
   "metadata": {},
   "outputs": [],
   "source": []
  }
 ],
 "metadata": {
  "kernelspec": {
   "display_name": "Python (torchconda)",
   "language": "python",
   "name": "torchconda"
  },
  "language_info": {
   "codemirror_mode": {
    "name": "ipython",
    "version": 3
   },
   "file_extension": ".py",
   "mimetype": "text/x-python",
   "name": "python",
   "nbconvert_exporter": "python",
   "pygments_lexer": "ipython3",
   "version": "3.10.13"
  }
 },
 "nbformat": 4,
 "nbformat_minor": 2
}
