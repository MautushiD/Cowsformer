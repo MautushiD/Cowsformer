{
 "cells": [
  {
   "cell_type": "code",
   "execution_count": 2,
   "metadata": {},
   "outputs": [
    {
     "name": "stdout",
     "output_type": "stream",
     "text": [
      "/Users/mautushid/github/Cowsformer\n"
     ]
    }
   ],
   "source": [
    "import os\n",
    "from ultralytics import NAS\n",
    "os.chdir(\"..\")\n",
    "ROOT = os.getcwd()\n",
    "print(ROOT)\n"
   ]
  },
  {
   "cell_type": "code",
   "execution_count": 3,
   "metadata": {},
   "outputs": [
    {
     "name": "stdout",
     "output_type": "stream",
     "text": [
      "The console stream is logged into /Users/mautushid/sg_logs/console.log\n"
     ]
    },
    {
     "name": "stderr",
     "output_type": "stream",
     "text": [
      "[2023-08-22 18:44:51] INFO - crash_tips_setup.py - Crash tips is enabled. You can set your environment variable to CRASH_HANDLER=FALSE to disable it\n",
      "[2023-08-22 18:44:54] WARNING - redirects.py - NOTE: Redirects are currently not supported in Windows or MacOs.\n",
      "[2023-08-22 18:44:57] WARNING - __init__.py - Failed to import pytorch_quantization\n",
      "[2023-08-22 18:44:57] WARNING - calibrator.py - Failed to import pytorch_quantization\n",
      "[2023-08-22 18:44:57] WARNING - export.py - Failed to import pytorch_quantization\n",
      "[2023-08-22 18:44:58] WARNING - selective_quantization_utils.py - Failed to import pytorch_quantization\n",
      "[2023-08-22 18:44:58] WARNING - env_sanity_check.py - \u001b[31mFailed to verify operating system: Deci officially supports only Linux kernels. Some features may not work as expected.\u001b[0m\n"
     ]
    }
   ],
   "source": [
    "from models.nas import Niche_YOLO_NAS\n",
    "from super_gradients.training.models import get as get_model\n",
    "from super_gradients.training import Trainer\n"
   ]
  },
  {
   "cell_type": "code",
   "execution_count": 5,
   "metadata": {},
   "outputs": [
    {
     "ename": "NameError",
     "evalue": "name 'EXPERIMENT_NAME' is not defined",
     "output_type": "error",
     "traceback": [
      "\u001b[0;31m---------------------------------------------------------------------------\u001b[0m",
      "\u001b[0;31mNameError\u001b[0m                                 Traceback (most recent call last)",
      "Cell \u001b[0;32mIn[5], line 1\u001b[0m\n\u001b[0;32m----> 1\u001b[0m trainer \u001b[39m=\u001b[39m Trainer(experiment_name\u001b[39m=\u001b[39mEXPERIMENT_NAME,\n\u001b[1;32m      2\u001b[0m                   ckpt_root_dir\u001b[39m=\u001b[39mCHECKPOINT_DIR)\n",
      "\u001b[0;31mNameError\u001b[0m: name 'EXPERIMENT_NAME' is not defined"
     ]
    }
   ],
   "source": [
    "trainer = Trainer(experiment_name=EXPERIMENT_NAME,\n",
    "                  ckpt_root_dir=CHECKPOINT_DIR)\n"
   ]
  },
  {
   "cell_type": "code",
   "execution_count": 4,
   "metadata": {},
   "outputs": [
    {
     "ename": "NameError",
     "evalue": "name 'trainer' is not defined",
     "output_type": "error",
     "traceback": [
      "\u001b[0;31m---------------------------------------------------------------------------\u001b[0m",
      "\u001b[0;31mNameError\u001b[0m                                 Traceback (most recent call last)",
      "Cell \u001b[0;32mIn[4], line 1\u001b[0m\n\u001b[0;32m----> 1\u001b[0m trainer\u001b[39m.\u001b[39mtest(\n\u001b[1;32m      2\u001b[0m     model\u001b[39m=\u001b[39mbest_model,\n\u001b[1;32m      3\u001b[0m     test_loader\u001b[39m=\u001b[39mtest_data,\n\u001b[1;32m      4\u001b[0m     test_metrics_list\u001b[39m=\u001b[39mDetectionMetrics_050(\n\u001b[1;32m      5\u001b[0m         score_thres\u001b[39m=\u001b[39m\u001b[39m0.1\u001b[39m,\n\u001b[1;32m      6\u001b[0m         top_k_predictions\u001b[39m=\u001b[39m\u001b[39m300\u001b[39m,\n\u001b[1;32m      7\u001b[0m         num_cls\u001b[39m=\u001b[39m\u001b[39mlen\u001b[39m(dataset_params[\u001b[39m'\u001b[39m\u001b[39mclasses\u001b[39m\u001b[39m'\u001b[39m]),\n\u001b[1;32m      8\u001b[0m         normalize_targets\u001b[39m=\u001b[39m\u001b[39mTrue\u001b[39;00m,\n\u001b[1;32m      9\u001b[0m         post_prediction_callback\u001b[39m=\u001b[39mPPYoloEPostPredictionCallback(\n\u001b[1;32m     10\u001b[0m             score_threshold\u001b[39m=\u001b[39m\u001b[39m0.01\u001b[39m,\n\u001b[1;32m     11\u001b[0m             nms_top_k\u001b[39m=\u001b[39m\u001b[39m1000\u001b[39m,\n\u001b[1;32m     12\u001b[0m             max_predictions\u001b[39m=\u001b[39m\u001b[39m300\u001b[39m,\n\u001b[1;32m     13\u001b[0m             nms_threshold\u001b[39m=\u001b[39m\u001b[39m0.7\u001b[39m\n\u001b[1;32m     14\u001b[0m         )\n\u001b[1;32m     15\u001b[0m     )\n\u001b[1;32m     16\u001b[0m )\n",
      "\u001b[0;31mNameError\u001b[0m: name 'trainer' is not defined"
     ]
    }
   ],
   "source": [
    "trainer.test(\n",
    "    model=best_model,\n",
    "    test_loader=test_data,\n",
    "    test_metrics_list=DetectionMetrics_050(\n",
    "        score_thres=0.1,\n",
    "        top_k_predictions=300,\n",
    "        num_cls=len(dataset_params['classes']),\n",
    "        normalize_targets=True,\n",
    "        post_prediction_callback=PPYoloEPostPredictionCallback(\n",
    "            score_threshold=0.01,\n",
    "            nms_top_k=1000,\n",
    "            max_predictions=300,\n",
    "            nms_threshold=0.7\n",
    "        )\n",
    "    )\n",
    ")\n"
   ]
  },
  {
   "cell_type": "code",
   "execution_count": null,
   "metadata": {},
   "outputs": [],
   "source": []
  }
 ],
 "metadata": {
  "kernelspec": {
   "display_name": "myenv",
   "language": "python",
   "name": "python3"
  },
  "language_info": {
   "codemirror_mode": {
    "name": "ipython",
    "version": 3
   },
   "file_extension": ".py",
   "mimetype": "text/x-python",
   "name": "python",
   "nbconvert_exporter": "python",
   "pygments_lexer": "ipython3",
   "version": "3.9.16"
  },
  "orig_nbformat": 4
 },
 "nbformat": 4,
 "nbformat_minor": 2
}
