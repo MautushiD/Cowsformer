{
 "cells": [
  {
   "cell_type": "code",
   "execution_count": null,
   "metadata": {},
   "outputs": [],
   "source": [
    "import os\n",
    "from ultralytics import NAS\n",
    "os.chdir(\"..\")\n",
    "ROOT = os.getcwd()\n",
    "print(ROOT)"
   ]
  },
  {
   "cell_type": "code",
   "execution_count": null,
   "metadata": {},
   "outputs": [],
   "source": [
    "from models.nas import Niche_YOLO_NAS\n",
    "from super_gradients.training.models import get as get_model\n",
    "from super_gradients.training import Trainer\n",
    "DIR_OUT = os.path.join(ROOT, \"data\", \"cow200\", \"yolov5\")\n",
    "name_task = \"n200_yolo_na_i1_trial100\"\n",
    "best_chekpoint = \"ckpt_best.pth\"\n",
    "log_txt = \"experiment_logs_Aug02_13_49_27.txt\"\n",
    "data_yaml_path = os.path.join(DIR_OUT, \"data.yaml\")\n",
    "log_file_path = os.path.join(ROOT, name_task, log_txt)\n"
   ]
  },
  {
   "cell_type": "code",
   "execution_count": null,
   "metadata": {},
   "outputs": [],
   "source": [
    "## Loading architecture\n",
    "model = Niche_YOLO_NAS(\n",
    "    path_model='yolo_nas_l',\n",
    "    dir_train=os.path.join(DIR_OUT, \"train\"),\n",
    "    dir_val=os.path.join(DIR_OUT, \"val\"),\n",
    "    dir_test=os.path.join(DIR_OUT, \"test\"),\n",
    "    name_task=\"\"\n",
    ")"
   ]
  },
  {
   "cell_type": "code",
   "execution_count": null,
   "metadata": {},
   "outputs": [],
   "source": [
    "### load the best model\n",
    "best_model_path = os.path.join(ROOT, name_task, best_chekpoint)\n",
    "best_model = model.load(best_model_path)"
   ]
  },
  {
   "cell_type": "code",
   "execution_count": null,
   "metadata": {},
   "outputs": [],
   "source": [
    "model.evaluate_trained_model(best_model, data_yaml_path, data_type='test')"
   ]
  },
  {
   "cell_type": "code",
   "execution_count": null,
   "metadata": {},
   "outputs": [],
   "source": [
    "model.get_evaluation_matrix(best_model, data_yaml_path, data_type='test', conf=0.5, plot=True)\n"
   ]
  },
  {
   "cell_type": "code",
   "execution_count": null,
   "metadata": {},
   "outputs": [],
   "source": []
  },
  {
   "cell_type": "code",
   "execution_count": null,
   "metadata": {},
   "outputs": [],
   "source": []
  }
 ],
 "metadata": {
  "kernelspec": {
   "display_name": "myenv",
   "language": "python",
   "name": "python3"
  },
  "language_info": {
   "codemirror_mode": {
    "name": "ipython",
    "version": 3
   },
   "file_extension": ".py",
   "mimetype": "text/x-python",
   "name": "python",
   "nbconvert_exporter": "python",
   "pygments_lexer": "ipython3",
   "version": "3.9.16"
  },
  "orig_nbformat": 4
 },
 "nbformat": 4,
 "nbformat_minor": 2
}
