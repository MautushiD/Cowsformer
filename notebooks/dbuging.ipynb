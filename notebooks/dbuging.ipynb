{
 "cells": [
  {
   "cell_type": "code",
   "execution_count": 4,
   "metadata": {},
   "outputs": [
    {
     "name": "stdout",
     "output_type": "stream",
     "text": [
      "/home/mautushid/Cowsformer\n"
     ]
    }
   ],
   "source": [
    "import os\n",
    "os.chdir(\"..\")\n",
    "ROOT = os.getcwd()\n",
    "print(ROOT)"
   ]
  },
  {
   "cell_type": "code",
   "execution_count": 5,
   "metadata": {},
   "outputs": [
    {
     "name": "stdout",
     "output_type": "stream",
     "text": [
      "The console stream is logged into /home/mautushid/sg_logs/console.log\n"
     ]
    },
    {
     "name": "stderr",
     "output_type": "stream",
     "text": [
      "[2024-03-07 13:49:58] INFO - crash_tips_setup.py - Crash tips is enabled. You can set your environment variable to CRASH_HANDLER=FALSE to disable it\n",
      "[2024-03-07 13:49:58] WARNING - __init__.py - Failed to import pytorch_quantization\n",
      "[2024-03-07 13:50:00] WARNING - calibrator.py - Failed to import pytorch_quantization\n",
      "[2024-03-07 13:50:00] WARNING - export.py - Failed to import pytorch_quantization\n",
      "[2024-03-07 13:50:00] WARNING - selective_quantization_utils.py - Failed to import pytorch_quantization\n"
     ]
    }
   ],
   "source": [
    "from ultralytics import NAS\n",
    "import logging\n",
    "import supervision as sv\n",
    "from API import*\n",
    "from evaluate import from_sv\n",
    "import warnings\n",
    "from models.nas import *\n",
    "warnings.filterwarnings(\"ignore\")\n",
    "os.environ['TORCH_HOME'] = '/home/mautushid/.torch'"
   ]
  },
  {
   "cell_type": "code",
   "execution_count": 6,
   "metadata": {},
   "outputs": [],
   "source": [
    "# local imports\n",
    "from iou_utils_NAS import *\n",
    "from models.nas import Niche_YOLO_NAS"
   ]
  },
  {
   "cell_type": "code",
   "execution_count": 7,
   "metadata": {},
   "outputs": [
    {
     "name": "stderr",
     "output_type": "stream",
     "text": [
      "[2024-03-07 13:50:09] INFO - checkpoint_utils.py - License Notification: YOLO-NAS pre-trained weights are subjected to the specific license terms and conditions detailed in \n",
      "https://github.com/Deci-AI/super-gradients/blob/master/LICENSE.YOLONAS.md\n",
      "By downloading the pre-trained weight files you agree to comply with these terms.\n",
      "[2024-03-07 13:50:09] INFO - checkpoint_utils.py - Successfully loaded pretrained weights for architecture yolo_nas_l\n"
     ]
    }
   ],
   "source": [
    "### class inits and other inputs\n",
    "\n",
    "path_model = 'yolo_nas_l' \n",
    "dir_train = \"/home/mautushid/Cowsformer/data/4_all/tv/exp_yolo_nas_m_256_1_all_yolo_nas_m_256_1/train\"\n",
    "dir_val = \"/home/mautushid/Cowsformer/data/4_all/tv/exp_yolo_nas_m_256_1_all_yolo_nas_m_256_1/val\"\n",
    "dir_test = \"/home/mautushid/Cowsformer/data/4_all/test\"\n",
    "name_task = \"cow200\"\n",
    "\n",
    "data_yaml_path = \"/home/mautushid/Cowsformer/data/4_all/tv/data.yaml\"\n",
    "#finetuned_model_path = \"/home/mautushid/Cowsformer/checkpoints/n256_yolo_nas_l_i2_all/RUN_20240301_070915_136444/ckpt_best.pth\"\n",
    "finetuned_model_path = \"/home/mautushid/Cowsformer/checkpoints/n256_yolo_nas_l_i1_all/RUN_20240229_194610_358069/ckpt_best.pth\"\n",
    "### Creating instance of Niche_YOLO_NAS class\n",
    "my_nas = Niche_YOLO_NAS(path_model, dir_train, dir_val, dir_test, name_task)"
   ]
  },
  {
   "cell_type": "code",
   "execution_count": 8,
   "metadata": {
    "scrolled": true
   },
   "outputs": [
    {
     "name": "stderr",
     "output_type": "stream",
     "text": [
      "[2024-03-07 13:50:16] INFO - checkpoint_utils.py - Successfully loaded model weights from /home/mautushid/Cowsformer/checkpoints/n256_yolo_nas_l_i1_all/RUN_20240229_194610_358069/ckpt_best.pth EMA checkpoint.\n"
     ]
    },
    {
     "name": "stdout",
     "output_type": "stream",
     "text": [
      "model yolo_nas_l loaded\n"
     ]
    }
   ],
   "source": [
    "best_model = my_nas.load(path_model,finetuned_model_path)\n"
   ]
  },
  {
   "cell_type": "code",
   "execution_count": 9,
   "metadata": {},
   "outputs": [
    {
     "name": "stderr",
     "output_type": "stream",
     "text": [
      "[2024-03-07 13:50:21] INFO - detection_dataset.py - Dataset Initialization in progress. `cache_annotations=True` causes the process to take longer due to full dataset indexing.\n",
      "Indexing dataset annotations: 100%|██████████| 204/204 [00:00<00:00, 354.03it/s]\n",
      "Testing:  92%|█████████▏| 12/13 [00:24<00:00,  2.60it/s]"
     ]
    },
    {
     "data": {
      "text/plain": [
       "{'Precision@0.50': 0.9000677466392517,\n",
       " 'Recall@0.50': 0.9293459057807922,\n",
       " 'mAP@0.50': 0.9119135737419128,\n",
       " 'F1@0.50': 0.9144725799560547,\n",
       " 'Best_score_threshold': 0.6399999856948853,\n",
       " 'Precision@0.50:0.95': 0.6326557993888855,\n",
       " 'Recall@0.50:0.95': 0.6532353758811951,\n",
       " 'mAP@0.50:0.95': 0.6064440011978149,\n",
       " 'F1@0.50:0.95': 0.6427809000015259}"
      ]
     },
     "execution_count": 9,
     "metadata": {},
     "output_type": "execute_result"
    },
    {
     "name": "stderr",
     "output_type": "stream",
     "text": [
      "\r",
      "Testing: 100%|██████████| 13/13 [00:24<00:00,  3.00it/s]\r",
      "Testing: 100%|██████████| 13/13 [00:25<00:00,  1.93s/it]\n"
     ]
    }
   ],
   "source": [
    "my_nas.evaluate_trained_model(best_model, data_yaml_path, \"test\")"
   ]
  },
  {
   "cell_type": "code",
   "execution_count": null,
   "metadata": {},
   "outputs": [],
   "source": []
  },
  {
   "cell_type": "code",
   "execution_count": null,
   "metadata": {},
   "outputs": [],
   "source": []
  },
  {
   "cell_type": "code",
   "execution_count": null,
   "metadata": {},
   "outputs": [],
   "source": []
  },
  {
   "cell_type": "code",
   "execution_count": null,
   "metadata": {},
   "outputs": [],
   "source": []
  },
  {
   "cell_type": "code",
   "execution_count": 8,
   "metadata": {},
   "outputs": [],
   "source": [
    "gt_label_path = \"/home/mautushid/Cowsformer/data/4_all/test/labels\"\n",
    "gt_img_path =  \"/home/mautushid/Cowsformer/data/4_all/test\"\n",
    "pred_label_path = \"/home/mautushid/Cowsformer/data/4_all/test/yolo_nas_l_256_1_labelsPred\"\n",
    "api = YOLO_API(\"/home/mautushid/Cowsformer/data/4_all/tv/exp_yolo_nas_l_256_1_all_yolo_nas_l_256_1\") \n",
    "lbs = api.get_gt_detections(gt_label_path, gt_img_path)\n",
    "pre = api.get_pred_detections(pred_label_path)"
   ]
  },
  {
   "cell_type": "code",
   "execution_count": 9,
   "metadata": {},
   "outputs": [],
   "source": [
    "\n",
    "op = from_sv(pre, lbs)"
   ]
  },
  {
   "cell_type": "code",
   "execution_count": 10,
   "metadata": {
    "scrolled": true
   },
   "outputs": [
    {
     "data": {
      "text/plain": [
       "{'map5095': 0.3092468587202556,\n",
       " 'map50': 0.5284042388188658,\n",
       " 'precision': 0.636518771331058,\n",
       " 'recall': 0.6520979020979021,\n",
       " 'f1': 0.6442141623488774,\n",
       " 'n_all': 2860,\n",
       " 'n_fn': 995,\n",
       " 'n_fp': 1065}"
      ]
     },
     "execution_count": 10,
     "metadata": {},
     "output_type": "execute_result"
    }
   ],
   "source": [
    "op"
   ]
  },
  {
   "cell_type": "code",
   "execution_count": 13,
   "metadata": {},
   "outputs": [],
   "source": [
    "gt_label_path = \"/home/mautushid/Cowsformer/data/4_all/test/labels\"\n",
    "gt_img_path =  \"/home/mautushid/Cowsformer/data/4_all/test\"\n",
    "pred_label_path = \"/home/mautushid/Cowsformer/data/4_all/test/yolo_nas_l_256_2_labelsPred\"\n",
    "api = YOLO_API(\"/home/mautushid/Cowsformer/data/4_all/tv/exp_yolo_nas_l_256_2_all_yolo_nas_l_256_2\") \n",
    "lbs = api.get_gt_detections(gt_label_path, gt_img_path)\n",
    "pre = api.get_pred_detections(pred_label_path)\n"
   ]
  },
  {
   "cell_type": "code",
   "execution_count": 16,
   "metadata": {},
   "outputs": [],
   "source": [
    "\n",
    "op1 = from_sv(pre, lbs)"
   ]
  },
  {
   "cell_type": "code",
   "execution_count": 17,
   "metadata": {},
   "outputs": [
    {
     "data": {
      "text/plain": [
       "{'map5095': 0.5924669039782262,\n",
       " 'map50': 0.8727871485147247,\n",
       " 'precision': 0.8633241758241759,\n",
       " 'recall': 0.879020979020979,\n",
       " 'f1': 0.8711018711018712,\n",
       " 'n_all': 2860,\n",
       " 'n_fn': 346,\n",
       " 'n_fp': 398}"
      ]
     },
     "execution_count": 17,
     "metadata": {},
     "output_type": "execute_result"
    }
   ],
   "source": [
    "op1"
   ]
  },
  {
   "cell_type": "code",
   "execution_count": 22,
   "metadata": {},
   "outputs": [],
   "source": [
    "gt_label_path = \"/home/mautushid/Cowsformer/data/4_all/test/labels\"\n",
    "gt_img_path =  \"/home/mautushid/Cowsformer/data/4_all/test\"\n",
    "pred_label_path = \"/home/mautushid/Cowsformer/data/4_all/test/yolo_nas_l_500_1_labelsPred\"\n",
    "api = YOLO_API(\"/home/mautushid/Cowsformer/data/4_all/tv/exp_yolo_nas_l_500_1_all_yolo_nas_l_500_1\") \n",
    "lbs = api.get_gt_detections(gt_label_path, gt_img_path)\n",
    "pre = api.get_pred_detections(pred_label_path)"
   ]
  },
  {
   "cell_type": "code",
   "execution_count": 23,
   "metadata": {},
   "outputs": [],
   "source": [
    "op2 = from_sv(pre, lbs)"
   ]
  },
  {
   "cell_type": "code",
   "execution_count": 24,
   "metadata": {},
   "outputs": [
    {
     "data": {
      "text/plain": [
       "{'map5095': 0.2665732225245042,\n",
       " 'map50': 0.4814259895386485,\n",
       " 'precision': 0.5885558583106267,\n",
       " 'recall': 0.6041958041958042,\n",
       " 'f1': 0.5962732919254659,\n",
       " 'n_all': 2860,\n",
       " 'n_fn': 1132,\n",
       " 'n_fp': 1208}"
      ]
     },
     "execution_count": 24,
     "metadata": {},
     "output_type": "execute_result"
    }
   ],
   "source": [
    "op2"
   ]
  },
  {
   "cell_type": "code",
   "execution_count": 25,
   "metadata": {},
   "outputs": [],
   "source": [
    "gt_label_path = \"/home/mautushid/Cowsformer/data/4_all/test/labels\"\n",
    "gt_img_path =  \"/home/mautushid/Cowsformer/data/4_all/test\"\n",
    "pred_label_path = \"/home/mautushid/Cowsformer/data/4_all/test/yolo_nas_l_500_2_labelsPred\"\n",
    "api = YOLO_API(\"/home/mautushid/Cowsformer/data/4_all/tv/exp_yolo_nas_l_500_2_all_yolo_nas_l_500_2\") \n",
    "lbs = api.get_gt_detections(gt_label_path, gt_img_path)\n",
    "pre = api.get_pred_detections(pred_label_path)"
   ]
  },
  {
   "cell_type": "code",
   "execution_count": 26,
   "metadata": {},
   "outputs": [],
   "source": [
    "op3 = from_sv(pre, lbs)"
   ]
  },
  {
   "cell_type": "code",
   "execution_count": 27,
   "metadata": {},
   "outputs": [
    {
     "data": {
      "text/plain": [
       "{'map5095': 0.6645565648898694,\n",
       " 'map50': 0.9426736214094549,\n",
       " 'precision': 0.9242424242424242,\n",
       " 'recall': 0.9171328671328671,\n",
       " 'f1': 0.9206739206739207,\n",
       " 'n_all': 2860,\n",
       " 'n_fn': 237,\n",
       " 'n_fp': 215}"
      ]
     },
     "execution_count": 27,
     "metadata": {},
     "output_type": "execute_result"
    }
   ],
   "source": [
    "op3"
   ]
  },
  {
   "cell_type": "code",
   "execution_count": null,
   "metadata": {},
   "outputs": [],
   "source": []
  },
  {
   "cell_type": "code",
   "execution_count": null,
   "metadata": {},
   "outputs": [],
   "source": []
  },
  {
   "cell_type": "code",
   "execution_count": null,
   "metadata": {},
   "outputs": [],
   "source": []
  },
  {
   "cell_type": "code",
   "execution_count": null,
   "metadata": {},
   "outputs": [],
   "source": [
    "'''\n",
    "image_files = sorted(list(Path(test_images).rglob(\"*.jpg\")))\n",
    "label_files = sorted(list(Path(test_labels).rglob(\"*.txt\")))\n",
    "default_model = yolo_nas_l\n",
    "finetuned_model = best_model \n",
    "iou_dicts = []\n",
    "for i in range(len(image_files)):#len(image_files)\n",
    "    test_image_path = str(image_files[i])\n",
    "    test_image_label = str(label_files[i])\n",
    "    prediction_dict = get_boxex_for_all_models(test_image_path,test_image_label,default_model,finetuned_model, conf = 0.5)\n",
    "    print(prediction_dict['image'])\n",
    "    iou_dicts.append(compute_iou_for_all_models(prediction_dict))\n",
    "    draw_boxes_all_models(test_image_path, prediction_dict)\n",
    "'''\n",
    "\n",
    "    "
   ]
  },
  {
   "cell_type": "code",
   "execution_count": null,
   "metadata": {},
   "outputs": [],
   "source": []
  },
  {
   "cell_type": "code",
   "execution_count": null,
   "metadata": {},
   "outputs": [],
   "source": []
  },
  {
   "cell_type": "code",
   "execution_count": null,
   "metadata": {},
   "outputs": [],
   "source": []
  },
  {
   "cell_type": "code",
   "execution_count": null,
   "metadata": {},
   "outputs": [],
   "source": []
  }
 ],
 "metadata": {
  "kernelspec": {
   "display_name": "Python (torchconda)",
   "language": "python",
   "name": "torchconda"
  },
  "language_info": {
   "codemirror_mode": {
    "name": "ipython",
    "version": 3
   },
   "file_extension": ".py",
   "mimetype": "text/x-python",
   "name": "python",
   "nbconvert_exporter": "python",
   "pygments_lexer": "ipython3",
   "version": "3.10.13"
  }
 },
 "nbformat": 4,
 "nbformat_minor": 2
}
