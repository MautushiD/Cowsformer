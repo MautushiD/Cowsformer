{
 "cells": [
  {
   "cell_type": "code",
   "execution_count": 1,
   "metadata": {},
   "outputs": [
    {
     "name": "stderr",
     "output_type": "stream",
     "text": [
      "Matplotlib created a temporary cache directory at /localscratch/2183901/matplotlib-oqrrumcj because the default path (/home/jovyan/.cache/matplotlib) is not a writable directory; it is highly recommended to set the MPLCONFIGDIR environment variable to a writable directory, in particular to speed up the import of Matplotlib and to better support multiprocessing.\n"
     ]
    },
    {
     "name": "stdout",
     "output_type": "stream",
     "text": [
      "/home/mautushid/Cowsformer\n"
     ]
    }
   ],
   "source": [
    "import os\n",
    "from ultralytics import NAS\n",
    "os.chdir(\"..\")\n",
    "ROOT = os.getcwd()\n",
    "print(ROOT)\n"
   ]
  },
  {
   "cell_type": "code",
   "execution_count": 2,
   "metadata": {},
   "outputs": [],
   "source": [
    "import os\n",
    "os.environ['TORCH_HOME'] = '/home/mautushid/.torch'"
   ]
  },
  {
   "cell_type": "code",
   "execution_count": 3,
   "metadata": {},
   "outputs": [
    {
     "name": "stdout",
     "output_type": "stream",
     "text": [
      "The console stream is logged into /home/mautushid/sg_logs/console.log\n"
     ]
    },
    {
     "name": "stderr",
     "output_type": "stream",
     "text": [
      "[2024-03-01 15:45:20] INFO - crash_tips_setup.py - Crash tips is enabled. You can set your environment variable to CRASH_HANDLER=FALSE to disable it\n",
      "[2024-03-01 15:45:21] WARNING - __init__.py - Failed to import pytorch_quantization\n",
      "[2024-03-01 15:45:30] WARNING - calibrator.py - Failed to import pytorch_quantization\n",
      "[2024-03-01 15:45:30] WARNING - export.py - Failed to import pytorch_quantization\n",
      "[2024-03-01 15:45:30] WARNING - selective_quantization_utils.py - Failed to import pytorch_quantization\n"
     ]
    }
   ],
   "source": [
    "from models.nas import *\n"
   ]
  },
  {
   "cell_type": "code",
   "execution_count": 4,
   "metadata": {},
   "outputs": [
    {
     "name": "stderr",
     "output_type": "stream",
     "text": [
      "[2024-03-01 15:45:32] INFO - checkpoint_utils.py - License Notification: YOLO-NAS pre-trained weights are subjected to the specific license terms and conditions detailed in \n",
      "https://github.com/Deci-AI/super-gradients/blob/master/LICENSE.YOLONAS.md\n",
      "By downloading the pre-trained weight files you agree to comply with these terms.\n",
      "[2024-03-01 15:45:32] INFO - checkpoint_utils.py - Successfully loaded pretrained weights for architecture yolo_nas_l\n"
     ]
    }
   ],
   "source": [
    "### class inits and other inputs\n",
    "\n",
    "path_model = 'yolo_nas_l' \n",
    "dir_train = \"/home/mautushid/Cowsformer/data/cow200/yolov5/train\"\n",
    "dir_val = \"/home/mautushid/Cowsformer/data/cow200/yolov5/val\"\n",
    "dir_test = \"/home/mautushid/Cowsformer/data/cow200/yolov5/test/test\"\n",
    "name_task = \"cow200\"\n",
    "data_yaml_path = \"/home/mautushid/Cowsformer/data/cow200/yolov5/data.yaml\"\n",
    "\n",
    "#data_yaml_path = \"/home/mautushid/Cowsformer/data/cow200/yolov5/data.yaml\"\n",
    "finetuned_model_path = \"/home/mautushid/Cowsformer/checkpoints_cow200/n200_yolo_nas_l_i12/RUN_20240224_060546_568311/ckpt_best.pth\"\n",
    "\n",
    "### Creating instance of Niche_YOLO_NAS class\n",
    "my_nas = Niche_YOLO_NAS(path_model, dir_train, dir_val, dir_test, name_task)\n"
   ]
  },
  {
   "cell_type": "code",
   "execution_count": 5,
   "metadata": {},
   "outputs": [
    {
     "name": "stdout",
     "output_type": "stream",
     "text": [
      "model /home/mautushid/Cowsformer/checkpoints_cow200/n200_yolo_nas_l_i12/RUN_20240224_060546_568311/ckpt_best.pth loaded\n"
     ]
    }
   ],
   "source": [
    "### load finetuned model\n",
    "best_model = my_nas.load(finetuned_model_path)"
   ]
  },
  {
   "cell_type": "code",
   "execution_count": 6,
   "metadata": {},
   "outputs": [
    {
     "name": "stderr",
     "output_type": "stream",
     "text": [
      "[2024-03-01 15:45:35] INFO - detection_dataset.py - Dataset Initialization in progress. `cache_annotations=True` causes the process to take longer due to full dataset indexing.\n",
      "Indexing dataset annotations: 100%|██████████| 50/50 [00:00<00:00, 178.36it/s]\n",
      "Testing:  33%|███▎      | 1/3 [00:02<00:05,  2.62s/it]"
     ]
    },
    {
     "data": {
      "text/plain": [
       "{'Precision@0.50': 0.0,\n",
       " 'Recall@0.50': 0.0,\n",
       " 'mAP@0.50': 0.0,\n",
       " 'F1@0.50': 0.0,\n",
       " 'Best_score_threshold': 0.0,\n",
       " 'Precision@0.50:0.95': 0.0,\n",
       " 'Recall@0.50:0.95': 0.0,\n",
       " 'mAP@0.50:0.95': 0.0,\n",
       " 'F1@0.50:0.95': 0.0}"
      ]
     },
     "execution_count": 6,
     "metadata": {},
     "output_type": "execute_result"
    },
    {
     "name": "stderr",
     "output_type": "stream",
     "text": [
      "\r",
      "Testing: 100%|██████████| 3/3 [00:02<00:00,  1.31it/s]\r",
      "Testing: 100%|██████████| 3/3 [00:02<00:00,  1.04it/s]\n"
     ]
    }
   ],
   "source": [
    "my_nas.evaluate_trained_model(best_model, data_yaml_path, \"test\")"
   ]
  },
  {
   "cell_type": "code",
   "execution_count": 7,
   "metadata": {},
   "outputs": [],
   "source": [
    "#my_nas.get_evaluation_matrix(best_model, data_yaml_path)"
   ]
  },
  {
   "cell_type": "code",
   "execution_count": null,
   "metadata": {},
   "outputs": [],
   "source": []
  }
 ],
 "metadata": {
  "kernelspec": {
   "display_name": "Python (torchconda)",
   "language": "python",
   "name": "torchconda"
  },
  "language_info": {
   "codemirror_mode": {
    "name": "ipython",
    "version": 3
   },
   "file_extension": ".py",
   "mimetype": "text/x-python",
   "name": "python",
   "nbconvert_exporter": "python",
   "pygments_lexer": "ipython3",
   "version": "3.10.13"
  }
 },
 "nbformat": 4,
 "nbformat_minor": 2
}
