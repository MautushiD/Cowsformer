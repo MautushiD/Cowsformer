{
 "cells": [
  {
   "cell_type": "code",
   "execution_count": 1,
   "metadata": {},
   "outputs": [
    {
     "name": "stdout",
     "output_type": "stream",
     "text": [
      "/Users/mautushid/github/Cowsformer\n"
     ]
    }
   ],
   "source": [
    "import os\n",
    "from ultralytics import NAS\n",
    "os.chdir(\"..\")\n",
    "ROOT = os.getcwd()\n",
    "print(ROOT)"
   ]
  },
  {
   "cell_type": "code",
   "execution_count": 2,
   "metadata": {},
   "outputs": [
    {
     "name": "stdout",
     "output_type": "stream",
     "text": [
      "The console stream is logged into /Users/mautushid/sg_logs/console.log\n"
     ]
    },
    {
     "name": "stderr",
     "output_type": "stream",
     "text": [
      "[2024-03-03 11:23:28] INFO - crash_tips_setup.py - Crash tips is enabled. You can set your environment variable to CRASH_HANDLER=FALSE to disable it\n",
      "[2024-03-03 11:23:28] WARNING - __init__.py - Failed to import pytorch_quantization\n",
      "[2024-03-03 11:23:28] WARNING - redirects.py - NOTE: Redirects are currently not supported in Windows or MacOs.\n",
      "[2024-03-03 11:23:30] WARNING - calibrator.py - Failed to import pytorch_quantization\n",
      "[2024-03-03 11:23:30] WARNING - export.py - Failed to import pytorch_quantization\n",
      "[2024-03-03 11:23:30] WARNING - selective_quantization_utils.py - Failed to import pytorch_quantization\n",
      "[2024-03-03 11:23:30] WARNING - env_sanity_check.py - \u001b[31mFailed to verify operating system: Deci officially supports only Linux kernels. Some features may not work as expected.\u001b[0m\n"
     ]
    }
   ],
   "source": [
    "from models.nas import *\n",
    "from pathlib import Path\n",
    "from PIL import Image"
   ]
  },
  {
   "cell_type": "code",
   "execution_count": 3,
   "metadata": {},
   "outputs": [
    {
     "name": "stderr",
     "output_type": "stream",
     "text": [
      "[2024-03-03 11:23:30] INFO - checkpoint_utils.py - License Notification: YOLO-NAS pre-trained weights are subjected to the specific license terms and conditions detailed in \n",
      "https://github.com/Deci-AI/super-gradients/blob/master/LICENSE.YOLONAS.md\n",
      "By downloading the pre-trained weight files you agree to comply with these terms.\n",
      "[2024-03-03 11:23:30] INFO - checkpoint_utils.py - Successfully loaded pretrained weights for architecture yolo_nas_l\n"
     ]
    }
   ],
   "source": [
    "path_model = 'yolo_nas_l'\n",
    "dir_train = \"/Users/mautushid/github/Cowsformer/data/cow200/yolov5/train\"\n",
    "dir_val = \"/Users/mautushid/github/Cowsformer/data/cow200/yolov5/val\"\n",
    "dir_test = \"/Users/mautushid/github/Cowsformer/data/cow200/yolov5/test_old\"\n",
    "name_task = \"cow200\"\n",
    "\n",
    "data_yaml_path = \"/Users/mautushid/github/Cowsformer/data/cow200/yolov5/data.yaml\"\n",
    "finetuned_model_path = \"/Users/mautushid/github/Cowsformer/__notebooks/lms_checkpoints/yolo_l_100/n100_yolo_na_i2_exp_yolo_nas_l_100_2/ckpt_best.pth\"\n",
    "# Creating instance of Niche_YOLO_NAS class\n",
    "my_nas = Niche_YOLO_NAS(path_model, dir_train, dir_val, dir_test, name_task)"
   ]
  },
  {
   "cell_type": "code",
   "execution_count": 4,
   "metadata": {},
   "outputs": [
    {
     "name": "stdout",
     "output_type": "stream",
     "text": [
      "model /Users/mautushid/github/Cowsformer/__notebooks/lms_checkpoints/yolo_l_100/n100_yolo_na_i2_exp_yolo_nas_l_100_2/ckpt_best.pth loaded\n"
     ]
    }
   ],
   "source": [
    "# load finetuned model\n",
    "best_model = my_nas.load(finetuned_model_path)"
   ]
  },
  {
   "cell_type": "code",
   "execution_count": 7,
   "metadata": {},
   "outputs": [
    {
     "ename": "UnboundLocalError",
     "evalue": "local variable 'data_dir' referenced before assignment",
     "output_type": "error",
     "traceback": [
      "\u001b[0;31m---------------------------------------------------------------------------\u001b[0m",
      "\u001b[0;31mUnboundLocalError\u001b[0m                         Traceback (most recent call last)",
      "Cell \u001b[0;32mIn[7], line 1\u001b[0m\n\u001b[0;32m----> 1\u001b[0m \u001b[43mmy_nas\u001b[49m\u001b[38;5;241;43m.\u001b[39;49m\u001b[43mget_map_scores\u001b[49m\u001b[43m(\u001b[49m\u001b[43mbest_model\u001b[49m\u001b[43m,\u001b[49m\u001b[43m \u001b[49m\u001b[43mdata_yaml_path\u001b[49m\u001b[43m,\u001b[49m\u001b[43m \u001b[49m\u001b[43mdir_test\u001b[49m\u001b[43m)\u001b[49m\n",
      "File \u001b[0;32m~/github/Cowsformer/models/nas.py:361\u001b[0m, in \u001b[0;36mNiche_YOLO_NAS.get_map_scores\u001b[0;34m(self, best_model, data_yaml_path, data_type)\u001b[0m\n\u001b[1;32m    357\u001b[0m \u001b[38;5;28;01melif\u001b[39;00m data_type \u001b[38;5;241m==\u001b[39m \u001b[38;5;124m\"\u001b[39m\u001b[38;5;124mval\u001b[39m\u001b[38;5;124m\"\u001b[39m:\n\u001b[1;32m    358\u001b[0m     data_dir \u001b[38;5;241m=\u001b[39m \u001b[38;5;28mself\u001b[39m\u001b[38;5;241m.\u001b[39mdir_val\n\u001b[1;32m    360\u001b[0m ds \u001b[38;5;241m=\u001b[39m sv\u001b[38;5;241m.\u001b[39mDetectionDataset\u001b[38;5;241m.\u001b[39mfrom_yolo(\n\u001b[0;32m--> 361\u001b[0m     images_directory_path\u001b[38;5;241m=\u001b[39m\u001b[43mdata_dir\u001b[49m \u001b[38;5;241m+\u001b[39m \u001b[38;5;124m\"\u001b[39m\u001b[38;5;124m/images\u001b[39m\u001b[38;5;124m\"\u001b[39m,\n\u001b[1;32m    362\u001b[0m     annotations_directory_path\u001b[38;5;241m=\u001b[39mdata_dir \u001b[38;5;241m+\u001b[39m \u001b[38;5;124m\"\u001b[39m\u001b[38;5;124m/labels\u001b[39m\u001b[38;5;124m\"\u001b[39m,\n\u001b[1;32m    363\u001b[0m     data_yaml_path\u001b[38;5;241m=\u001b[39mdata_yaml_path,\n\u001b[1;32m    364\u001b[0m     force_masks\u001b[38;5;241m=\u001b[39m\u001b[38;5;28;01mFalse\u001b[39;00m,\n\u001b[1;32m    365\u001b[0m )\n\u001b[1;32m    367\u001b[0m predictions \u001b[38;5;241m=\u001b[39m []\n\u001b[1;32m    368\u001b[0m targets \u001b[38;5;241m=\u001b[39m []\n",
      "\u001b[0;31mUnboundLocalError\u001b[0m: local variable 'data_dir' referenced before assignment"
     ]
    }
   ],
   "source": [
    "my_nas.get_map_scores(best_model, data_yaml_path, dir_test)"
   ]
  },
  {
   "cell_type": "code",
   "execution_count": null,
   "metadata": {},
   "outputs": [],
   "source": []
  }
 ],
 "metadata": {
  "kernelspec": {
   "display_name": "myenv",
   "language": "python",
   "name": "python3"
  },
  "language_info": {
   "codemirror_mode": {
    "name": "ipython",
    "version": 3
   },
   "file_extension": ".py",
   "mimetype": "text/x-python",
   "name": "python",
   "nbconvert_exporter": "python",
   "pygments_lexer": "ipython3",
   "version": "3.9.16"
  }
 },
 "nbformat": 4,
 "nbformat_minor": 2
}
